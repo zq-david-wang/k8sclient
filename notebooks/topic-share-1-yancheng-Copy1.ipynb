{
 "cells": [
  {
   "cell_type": "markdown",
   "metadata": {},
   "source": [
    "# Play with k8s cluster using python\n",
    "\n",
    "- __Installation__\n",
    "  * pip\n",
    "  * kubernetes\n",
    "  * pandas (Only needed for cluster data analysis)\n",
    "  * k8sclient (wrapper for kubernetes)\n",
    "\n",
    "\n",
    "- __Collect cluster information and data analysis with pandas__\n",
    "  * setup\n",
    "  * pod\n",
    "  * node\n",
    "  * service\n",
    "  * etc.\n",
    " \n",
    "  \n",
    "- __Deploy pod/replicaset/service and some simple usage/test__\n",
    "  * pods, volume, service and etc.\n",
    "  * replicaset\n",
    "  * network connectivity test\n",
    "  * file system test (fio), network throughput (iperf), pod stress test and etc\n",
    "  * service search\n",
    "  * query api (hubot)"
   ]
  },
  {
   "cell_type": "markdown",
   "metadata": {},
   "source": [
    "## Installation\n",
    "#### [pip](https://pip.pypa.io/en/stable/installing/)\n",
    ">Be cautious if you're using a Python install that's managed by your operating system or another package manager. get-pip.py does not coordinate with those tools, and may leave your system in an inconsistent state.\n",
    ">To install pip via package manager, use package name python-pip\n",
    ">Python3 is recommented though, not sure thoes numpy/pandas package can work well with python3\n",
    "\n",
    "```shell\n",
    "wget https://bootstrap.pypa.io/get-pip.py\n",
    "python get-pip.py\n",
    "```\n",
    "\n",
    "#### [kubernetes](https://github.com/kubernetes-incubator/client-python/)\n",
    "```shell\n",
    "pip install kubernetes\n",
    "```\n",
    "> Usefully documentation links \n",
    "   * [auto generated docs](https://github.com/kubernetes-incubator/client-python/blob/master/kubernetes/README.md)\n",
    "   * [api references](https://kubernetes.io/docs/api-reference/v1.6/)\n",
    "\n",
    "\n",
    "#### [pandas](pandas.pydata.org/pandas-docs/stable/)\n",
    "```shell\n",
    "pip install pandas\n",
    "```\n",
    "\n",
    "#### k8sclient\n",
    "```shell\n",
    "git clone ssh://git@10.19.248.200:30884/DavidWang/k8sft.git\n",
    "cd k8sft && pip install -e .\n",
    "```"
   ]
  },
  {
   "cell_type": "markdown",
   "metadata": {},
   "source": [
    "## Collect cluster information\n",
    "\n",
    "### notebook setup"
   ]
  },
  {
   "cell_type": "code",
   "execution_count": 1,
   "metadata": {
    "collapsed": true
   },
   "outputs": [],
   "source": [
    "%matplotlib inline\n",
    "import matplotlib.pyplot as plt\n",
    "import pandas as pd"
   ]
  },
  {
   "cell_type": "code",
   "execution_count": 2,
   "metadata": {
    "collapsed": true
   },
   "outputs": [],
   "source": [
    "from k8sclient.keywords import switch_cluster, register_cluster\n",
    "# register_cluster(\"yancheng\", \"~/.kube/config-yancheng\")\n",
    "register_cluster(\"shanghai-console\", \"~/.kube/config-shanghai-console\")\n",
    "# switch_cluster(\"yancheng\")\n",
    "switch_cluster(\"shanghai-console\")"
   ]
  },
  {
   "cell_type": "markdown",
   "metadata": {},
   "source": [
    "### Pod information"
   ]
  },
  {
   "cell_type": "markdown",
   "metadata": {},
   "source": [
    "#### collect all pods information"
   ]
  },
  {
   "cell_type": "code",
   "execution_count": 7,
   "metadata": {},
   "outputs": [
    {
     "ename": "ApiException",
     "evalue": "(403)\nReason: \nHTTP response headers: HTTPHeaderDict({'Transfer-Encoding': 'chunked', 'Date': 'Thu, 21 Sep 2017 06:30:39 GMT', 'Content-Type': 'application/json', 'X-Application-Context': 'application:prod:8809'})\nHTTP response body: {\"code\":8090002,\"message\":\"the user has no permission to access the resources\",\"payload\":{}}\n",
     "output_type": "error",
     "traceback": [
      "\u001b[0;31m---------------------------------------------------------------------------\u001b[0m",
      "\u001b[0;31mApiException\u001b[0m                              Traceback (most recent call last)",
      "\u001b[0;32m<ipython-input-7-8629af38a95e>\u001b[0m in \u001b[0;36m<module>\u001b[0;34m()\u001b[0m\n\u001b[1;32m      1\u001b[0m \u001b[0;32mfrom\u001b[0m \u001b[0mk8sclient\u001b[0m\u001b[0;34m.\u001b[0m\u001b[0mdataframes\u001b[0m \u001b[0;32mimport\u001b[0m \u001b[0mcollect_namespaced_pods\u001b[0m\u001b[0;34m\u001b[0m\u001b[0m\n\u001b[0;32m----> 2\u001b[0;31m \u001b[0mdfs\u001b[0m \u001b[0;34m=\u001b[0m \u001b[0mcollect_namespaced_pods\u001b[0m\u001b[0;34m(\u001b[0m\u001b[0;34m\"monkey\"\u001b[0m\u001b[0;34m)\u001b[0m\u001b[0;34m\u001b[0m\u001b[0m\n\u001b[0m\u001b[1;32m      3\u001b[0m \u001b[0;31m# dfs['pod']\u001b[0m\u001b[0;34m\u001b[0m\u001b[0;34m\u001b[0m\u001b[0m\n",
      "\u001b[0;32m/home/xzy/PycharmProjects/misc/myproject/k8sft/k8sclient/dataframes.pyc\u001b[0m in \u001b[0;36mcollect_namespaced_pods\u001b[0;34m(namespace)\u001b[0m\n\u001b[1;32m    171\u001b[0m \u001b[0;34m\u001b[0m\u001b[0m\n\u001b[1;32m    172\u001b[0m \u001b[0;32mdef\u001b[0m \u001b[0mcollect_namespaced_pods\u001b[0m\u001b[0;34m(\u001b[0m\u001b[0mnamespace\u001b[0m\u001b[0;34m)\u001b[0m\u001b[0;34m:\u001b[0m\u001b[0;34m\u001b[0m\u001b[0m\n\u001b[0;32m--> 173\u001b[0;31m     \u001b[0mpods\u001b[0m \u001b[0;34m=\u001b[0m \u001b[0mlist_namespaced_pods\u001b[0m\u001b[0;34m(\u001b[0m\u001b[0mnamespace\u001b[0m\u001b[0;34m)\u001b[0m\u001b[0;34m\u001b[0m\u001b[0m\n\u001b[0m\u001b[1;32m    174\u001b[0m     \u001b[0;32mreturn\u001b[0m \u001b[0m_parse_pods\u001b[0m\u001b[0;34m(\u001b[0m\u001b[0mpods\u001b[0m\u001b[0;34m)\u001b[0m\u001b[0;34m\u001b[0m\u001b[0m\n\u001b[1;32m    175\u001b[0m \u001b[0;34m\u001b[0m\u001b[0m\n",
      "\u001b[0;32m/home/xzy/PycharmProjects/misc/myproject/k8sft/k8sclient/keywords.pyc\u001b[0m in \u001b[0;36mlist_namespaced_pods\u001b[0;34m(namespace)\u001b[0m\n\u001b[1;32m     79\u001b[0m \u001b[0;34m\u001b[0m\u001b[0m\n\u001b[1;32m     80\u001b[0m \u001b[0;32mdef\u001b[0m \u001b[0mlist_namespaced_pods\u001b[0m\u001b[0;34m(\u001b[0m\u001b[0mnamespace\u001b[0m\u001b[0;34m)\u001b[0m\u001b[0;34m:\u001b[0m\u001b[0;34m\u001b[0m\u001b[0m\n\u001b[0;32m---> 81\u001b[0;31m     \u001b[0;32mreturn\u001b[0m \u001b[0mk8sclient\u001b[0m\u001b[0;34m.\u001b[0m\u001b[0mget_pods_info\u001b[0m\u001b[0;34m(\u001b[0m\u001b[0mnamespace\u001b[0m\u001b[0;34m)\u001b[0m\u001b[0;34m\u001b[0m\u001b[0m\n\u001b[0m\u001b[1;32m     82\u001b[0m \u001b[0;34m\u001b[0m\u001b[0m\n\u001b[1;32m     83\u001b[0m \u001b[0;34m\u001b[0m\u001b[0m\n",
      "\u001b[0;32m/home/xzy/PycharmProjects/misc/myproject/k8sft/k8sclient/K8SClient.pyc\u001b[0m in \u001b[0;36mget_pods_info\u001b[0;34m(self, namespace)\u001b[0m\n\u001b[1;32m    129\u001b[0m \u001b[0;34m\u001b[0m\u001b[0m\n\u001b[1;32m    130\u001b[0m     \u001b[0;32mdef\u001b[0m \u001b[0mget_pods_info\u001b[0m\u001b[0;34m(\u001b[0m\u001b[0mself\u001b[0m\u001b[0;34m,\u001b[0m \u001b[0mnamespace\u001b[0m\u001b[0;34m)\u001b[0m\u001b[0;34m:\u001b[0m\u001b[0;34m\u001b[0m\u001b[0m\n\u001b[0;32m--> 131\u001b[0;31m         \u001b[0;32mreturn\u001b[0m \u001b[0mself\u001b[0m\u001b[0;34m.\u001b[0m\u001b[0mapiV1\u001b[0m\u001b[0;34m.\u001b[0m\u001b[0mlist_namespaced_pod\u001b[0m\u001b[0;34m(\u001b[0m\u001b[0mnamespace\u001b[0m\u001b[0;34m=\u001b[0m\u001b[0mnamespace\u001b[0m\u001b[0;34m)\u001b[0m\u001b[0;34m.\u001b[0m\u001b[0mitems\u001b[0m\u001b[0;34m\u001b[0m\u001b[0m\n\u001b[0m\u001b[1;32m    132\u001b[0m \u001b[0;34m\u001b[0m\u001b[0m\n\u001b[1;32m    133\u001b[0m     \u001b[0;32mdef\u001b[0m \u001b[0msend_remove_pod_request\u001b[0m\u001b[0;34m(\u001b[0m\u001b[0mself\u001b[0m\u001b[0;34m,\u001b[0m \u001b[0mnamespace\u001b[0m\u001b[0;34m,\u001b[0m \u001b[0mname\u001b[0m\u001b[0;34m,\u001b[0m \u001b[0mthrow_exp\u001b[0m\u001b[0;34m=\u001b[0m\u001b[0mTrue\u001b[0m\u001b[0;34m)\u001b[0m\u001b[0;34m:\u001b[0m\u001b[0;34m\u001b[0m\u001b[0m\n",
      "\u001b[0;32m/home/xzy/workspace/python/myenv/local/lib/python2.7/site-packages/kubernetes/client/apis/core_v1_api.pyc\u001b[0m in \u001b[0;36mlist_namespaced_pod\u001b[0;34m(self, namespace, **kwargs)\u001b[0m\n\u001b[1;32m  13058\u001b[0m             \u001b[0;32mreturn\u001b[0m \u001b[0mself\u001b[0m\u001b[0;34m.\u001b[0m\u001b[0mlist_namespaced_pod_with_http_info\u001b[0m\u001b[0;34m(\u001b[0m\u001b[0mnamespace\u001b[0m\u001b[0;34m,\u001b[0m \u001b[0;34m**\u001b[0m\u001b[0mkwargs\u001b[0m\u001b[0;34m)\u001b[0m\u001b[0;34m\u001b[0m\u001b[0m\n\u001b[1;32m  13059\u001b[0m         \u001b[0;32melse\u001b[0m\u001b[0;34m:\u001b[0m\u001b[0;34m\u001b[0m\u001b[0m\n\u001b[0;32m> 13060\u001b[0;31m             \u001b[0;34m(\u001b[0m\u001b[0mdata\u001b[0m\u001b[0;34m)\u001b[0m \u001b[0;34m=\u001b[0m \u001b[0mself\u001b[0m\u001b[0;34m.\u001b[0m\u001b[0mlist_namespaced_pod_with_http_info\u001b[0m\u001b[0;34m(\u001b[0m\u001b[0mnamespace\u001b[0m\u001b[0;34m,\u001b[0m \u001b[0;34m**\u001b[0m\u001b[0mkwargs\u001b[0m\u001b[0;34m)\u001b[0m\u001b[0;34m\u001b[0m\u001b[0m\n\u001b[0m\u001b[1;32m  13061\u001b[0m             \u001b[0;32mreturn\u001b[0m \u001b[0mdata\u001b[0m\u001b[0;34m\u001b[0m\u001b[0m\n\u001b[1;32m  13062\u001b[0m \u001b[0;34m\u001b[0m\u001b[0m\n",
      "\u001b[0;32m/home/xzy/workspace/python/myenv/local/lib/python2.7/site-packages/kubernetes/client/apis/core_v1_api.pyc\u001b[0m in \u001b[0;36mlist_namespaced_pod_with_http_info\u001b[0;34m(self, namespace, **kwargs)\u001b[0m\n\u001b[1;32m  13160\u001b[0m                                         \u001b[0m_preload_content\u001b[0m\u001b[0;34m=\u001b[0m\u001b[0mparams\u001b[0m\u001b[0;34m.\u001b[0m\u001b[0mget\u001b[0m\u001b[0;34m(\u001b[0m\u001b[0;34m'_preload_content'\u001b[0m\u001b[0;34m,\u001b[0m \u001b[0mTrue\u001b[0m\u001b[0;34m)\u001b[0m\u001b[0;34m,\u001b[0m\u001b[0;34m\u001b[0m\u001b[0m\n\u001b[1;32m  13161\u001b[0m                                         \u001b[0m_request_timeout\u001b[0m\u001b[0;34m=\u001b[0m\u001b[0mparams\u001b[0m\u001b[0;34m.\u001b[0m\u001b[0mget\u001b[0m\u001b[0;34m(\u001b[0m\u001b[0;34m'_request_timeout'\u001b[0m\u001b[0;34m)\u001b[0m\u001b[0;34m,\u001b[0m\u001b[0;34m\u001b[0m\u001b[0m\n\u001b[0;32m> 13162\u001b[0;31m                                         collection_formats=collection_formats)\n\u001b[0m\u001b[1;32m  13163\u001b[0m \u001b[0;34m\u001b[0m\u001b[0m\n\u001b[1;32m  13164\u001b[0m     \u001b[0;32mdef\u001b[0m \u001b[0mlist_namespaced_pod_template\u001b[0m\u001b[0;34m(\u001b[0m\u001b[0mself\u001b[0m\u001b[0;34m,\u001b[0m \u001b[0mnamespace\u001b[0m\u001b[0;34m,\u001b[0m \u001b[0;34m**\u001b[0m\u001b[0mkwargs\u001b[0m\u001b[0;34m)\u001b[0m\u001b[0;34m:\u001b[0m\u001b[0;34m\u001b[0m\u001b[0m\n",
      "\u001b[0;32m/home/xzy/workspace/python/myenv/local/lib/python2.7/site-packages/kubernetes/client/api_client.pyc\u001b[0m in \u001b[0;36mcall_api\u001b[0;34m(self, resource_path, method, path_params, query_params, header_params, body, post_params, files, response_type, auth_settings, callback, _return_http_data_only, collection_formats, _preload_content, _request_timeout)\u001b[0m\n\u001b[1;32m    333\u001b[0m                                    \u001b[0mresponse_type\u001b[0m\u001b[0;34m,\u001b[0m \u001b[0mauth_settings\u001b[0m\u001b[0;34m,\u001b[0m \u001b[0mcallback\u001b[0m\u001b[0;34m,\u001b[0m\u001b[0;34m\u001b[0m\u001b[0m\n\u001b[1;32m    334\u001b[0m                                    \u001b[0m_return_http_data_only\u001b[0m\u001b[0;34m,\u001b[0m \u001b[0mcollection_formats\u001b[0m\u001b[0;34m,\u001b[0m\u001b[0;34m\u001b[0m\u001b[0m\n\u001b[0;32m--> 335\u001b[0;31m                                    _preload_content, _request_timeout)\n\u001b[0m\u001b[1;32m    336\u001b[0m         \u001b[0;32melse\u001b[0m\u001b[0;34m:\u001b[0m\u001b[0;34m\u001b[0m\u001b[0m\n\u001b[1;32m    337\u001b[0m             thread = threading.Thread(target=self.__call_api,\n",
      "\u001b[0;32m/home/xzy/workspace/python/myenv/local/lib/python2.7/site-packages/kubernetes/client/api_client.pyc\u001b[0m in \u001b[0;36m__call_api\u001b[0;34m(self, resource_path, method, path_params, query_params, header_params, body, post_params, files, response_type, auth_settings, callback, _return_http_data_only, collection_formats, _preload_content, _request_timeout)\u001b[0m\n\u001b[1;32m    146\u001b[0m                                      \u001b[0mpost_params\u001b[0m\u001b[0;34m=\u001b[0m\u001b[0mpost_params\u001b[0m\u001b[0;34m,\u001b[0m \u001b[0mbody\u001b[0m\u001b[0;34m=\u001b[0m\u001b[0mbody\u001b[0m\u001b[0;34m,\u001b[0m\u001b[0;34m\u001b[0m\u001b[0m\n\u001b[1;32m    147\u001b[0m                                      \u001b[0m_preload_content\u001b[0m\u001b[0;34m=\u001b[0m\u001b[0m_preload_content\u001b[0m\u001b[0;34m,\u001b[0m\u001b[0;34m\u001b[0m\u001b[0m\n\u001b[0;32m--> 148\u001b[0;31m                                      _request_timeout=_request_timeout)\n\u001b[0m\u001b[1;32m    149\u001b[0m \u001b[0;34m\u001b[0m\u001b[0m\n\u001b[1;32m    150\u001b[0m         \u001b[0mself\u001b[0m\u001b[0;34m.\u001b[0m\u001b[0mlast_response\u001b[0m \u001b[0;34m=\u001b[0m \u001b[0mresponse_data\u001b[0m\u001b[0;34m\u001b[0m\u001b[0m\n",
      "\u001b[0;32m/home/xzy/workspace/python/myenv/local/lib/python2.7/site-packages/kubernetes/client/api_client.pyc\u001b[0m in \u001b[0;36mrequest\u001b[0;34m(self, method, url, query_params, headers, post_params, body, _preload_content, _request_timeout)\u001b[0m\n\u001b[1;32m    369\u001b[0m                                         \u001b[0m_preload_content\u001b[0m\u001b[0;34m=\u001b[0m\u001b[0m_preload_content\u001b[0m\u001b[0;34m,\u001b[0m\u001b[0;34m\u001b[0m\u001b[0m\n\u001b[1;32m    370\u001b[0m                                         \u001b[0m_request_timeout\u001b[0m\u001b[0;34m=\u001b[0m\u001b[0m_request_timeout\u001b[0m\u001b[0;34m,\u001b[0m\u001b[0;34m\u001b[0m\u001b[0m\n\u001b[0;32m--> 371\u001b[0;31m                                         headers=headers)\n\u001b[0m\u001b[1;32m    372\u001b[0m         \u001b[0;32melif\u001b[0m \u001b[0mmethod\u001b[0m \u001b[0;34m==\u001b[0m \u001b[0;34m\"HEAD\"\u001b[0m\u001b[0;34m:\u001b[0m\u001b[0;34m\u001b[0m\u001b[0m\n\u001b[1;32m    373\u001b[0m             return self.rest_client.HEAD(url,\n",
      "\u001b[0;32m/home/xzy/workspace/python/myenv/local/lib/python2.7/site-packages/kubernetes/client/rest.pyc\u001b[0m in \u001b[0;36mGET\u001b[0;34m(self, url, headers, query_params, _preload_content, _request_timeout)\u001b[0m\n\u001b[1;32m    248\u001b[0m                             \u001b[0m_preload_content\u001b[0m\u001b[0;34m=\u001b[0m\u001b[0m_preload_content\u001b[0m\u001b[0;34m,\u001b[0m\u001b[0;34m\u001b[0m\u001b[0m\n\u001b[1;32m    249\u001b[0m                             \u001b[0m_request_timeout\u001b[0m\u001b[0;34m=\u001b[0m\u001b[0m_request_timeout\u001b[0m\u001b[0;34m,\u001b[0m\u001b[0;34m\u001b[0m\u001b[0m\n\u001b[0;32m--> 250\u001b[0;31m                             query_params=query_params)\n\u001b[0m\u001b[1;32m    251\u001b[0m \u001b[0;34m\u001b[0m\u001b[0m\n\u001b[1;32m    252\u001b[0m     def HEAD(self, url, headers=None, query_params=None, _preload_content=True,\n",
      "\u001b[0;32m/home/xzy/workspace/python/myenv/local/lib/python2.7/site-packages/kubernetes/client/rest.pyc\u001b[0m in \u001b[0;36mrequest\u001b[0;34m(self, method, url, query_params, headers, body, post_params, _preload_content, _request_timeout)\u001b[0m\n\u001b[1;32m    238\u001b[0m \u001b[0;34m\u001b[0m\u001b[0m\n\u001b[1;32m    239\u001b[0m         \u001b[0;32mif\u001b[0m \u001b[0mr\u001b[0m\u001b[0;34m.\u001b[0m\u001b[0mstatus\u001b[0m \u001b[0;32mnot\u001b[0m \u001b[0;32min\u001b[0m \u001b[0mrange\u001b[0m\u001b[0;34m(\u001b[0m\u001b[0;36m200\u001b[0m\u001b[0;34m,\u001b[0m \u001b[0;36m206\u001b[0m\u001b[0;34m)\u001b[0m\u001b[0;34m:\u001b[0m\u001b[0;34m\u001b[0m\u001b[0m\n\u001b[0;32m--> 240\u001b[0;31m             \u001b[0;32mraise\u001b[0m \u001b[0mApiException\u001b[0m\u001b[0;34m(\u001b[0m\u001b[0mhttp_resp\u001b[0m\u001b[0;34m=\u001b[0m\u001b[0mr\u001b[0m\u001b[0;34m)\u001b[0m\u001b[0;34m\u001b[0m\u001b[0m\n\u001b[0m\u001b[1;32m    241\u001b[0m \u001b[0;34m\u001b[0m\u001b[0m\n\u001b[1;32m    242\u001b[0m         \u001b[0;32mreturn\u001b[0m \u001b[0mr\u001b[0m\u001b[0;34m\u001b[0m\u001b[0m\n",
      "\u001b[0;31mApiException\u001b[0m: (403)\nReason: \nHTTP response headers: HTTPHeaderDict({'Transfer-Encoding': 'chunked', 'Date': 'Thu, 21 Sep 2017 06:30:39 GMT', 'Content-Type': 'application/json', 'X-Application-Context': 'application:prod:8809'})\nHTTP response body: {\"code\":8090002,\"message\":\"the user has no permission to access the resources\",\"payload\":{}}\n"
     ]
    }
   ],
   "source": [
    "from k8sclient.dataframes import collect_namespaced_pods\n",
    "dfs = collect_namespaced_pods(\"monkey\")\n",
    "# dfs['pod']"
   ]
  },
  {
   "cell_type": "code",
   "execution_count": 3,
   "metadata": {
    "scrolled": true
   },
   "outputs": [
    {
     "ename": "ApiException",
     "evalue": "(403)\nReason: \nHTTP response headers: HTTPHeaderDict({'Transfer-Encoding': 'chunked', 'Date': 'Thu, 21 Sep 2017 06:28:32 GMT', 'Content-Type': 'application/json', 'X-Application-Context': 'application:prod:8809'})\nHTTP response body: {\"code\":8090002,\"message\":\"the user has no permission to access the resources\",\"payload\":{}}\n",
     "output_type": "error",
     "traceback": [
      "\u001b[0;31m---------------------------------------------------------------------------\u001b[0m",
      "\u001b[0;31mApiException\u001b[0m                              Traceback (most recent call last)",
      "\u001b[0;32m<ipython-input-3-0c60b0ae1c00>\u001b[0m in \u001b[0;36m<module>\u001b[0;34m()\u001b[0m\n\u001b[1;32m      1\u001b[0m \u001b[0;32mfrom\u001b[0m \u001b[0mk8sclient\u001b[0m\u001b[0;34m.\u001b[0m\u001b[0mdataframes\u001b[0m \u001b[0;32mimport\u001b[0m \u001b[0mcollect_all_pods\u001b[0m\u001b[0;34m\u001b[0m\u001b[0m\n\u001b[0;32m----> 2\u001b[0;31m \u001b[0mpods\u001b[0m \u001b[0;34m=\u001b[0m \u001b[0mcollect_all_pods\u001b[0m\u001b[0;34m(\u001b[0m\u001b[0;34m)\u001b[0m\u001b[0;34m\u001b[0m\u001b[0m\n\u001b[0m",
      "\u001b[0;32m/home/xzy/PycharmProjects/misc/myproject/k8sft/k8sclient/dataframes.pyc\u001b[0m in \u001b[0;36mcollect_all_pods\u001b[0;34m()\u001b[0m\n\u001b[1;32m    177\u001b[0m \u001b[0;32mdef\u001b[0m \u001b[0mcollect_all_pods\u001b[0m\u001b[0;34m(\u001b[0m\u001b[0;34m)\u001b[0m\u001b[0;34m:\u001b[0m\u001b[0;34m\u001b[0m\u001b[0m\n\u001b[1;32m    178\u001b[0m     \u001b[0mnamespaces\u001b[0m \u001b[0;34m=\u001b[0m \u001b[0mlist_namespaces\u001b[0m\u001b[0;34m(\u001b[0m\u001b[0;34m)\u001b[0m\u001b[0;34m\u001b[0m\u001b[0m\n\u001b[0;32m--> 179\u001b[0;31m     \u001b[0mpods\u001b[0m \u001b[0;34m=\u001b[0m \u001b[0msum\u001b[0m\u001b[0;34m(\u001b[0m\u001b[0;34m[\u001b[0m\u001b[0mlist_namespaced_pods\u001b[0m\u001b[0;34m(\u001b[0m\u001b[0mn\u001b[0m\u001b[0;34m)\u001b[0m \u001b[0;32mfor\u001b[0m \u001b[0mn\u001b[0m \u001b[0;32min\u001b[0m \u001b[0mnamespaces\u001b[0m\u001b[0;34m]\u001b[0m\u001b[0;34m,\u001b[0m \u001b[0;34m[\u001b[0m\u001b[0;34m]\u001b[0m\u001b[0;34m)\u001b[0m\u001b[0;34m\u001b[0m\u001b[0m\n\u001b[0m\u001b[1;32m    180\u001b[0m     \u001b[0;32mreturn\u001b[0m \u001b[0m_parse_pods\u001b[0m\u001b[0;34m(\u001b[0m\u001b[0mpods\u001b[0m\u001b[0;34m)\u001b[0m\u001b[0;34m\u001b[0m\u001b[0m\n\u001b[1;32m    181\u001b[0m \u001b[0;34m\u001b[0m\u001b[0m\n",
      "\u001b[0;32m/home/xzy/PycharmProjects/misc/myproject/k8sft/k8sclient/keywords.pyc\u001b[0m in \u001b[0;36mlist_namespaced_pods\u001b[0;34m(namespace)\u001b[0m\n\u001b[1;32m     79\u001b[0m \u001b[0;34m\u001b[0m\u001b[0m\n\u001b[1;32m     80\u001b[0m \u001b[0;32mdef\u001b[0m \u001b[0mlist_namespaced_pods\u001b[0m\u001b[0;34m(\u001b[0m\u001b[0mnamespace\u001b[0m\u001b[0;34m)\u001b[0m\u001b[0;34m:\u001b[0m\u001b[0;34m\u001b[0m\u001b[0m\n\u001b[0;32m---> 81\u001b[0;31m     \u001b[0;32mreturn\u001b[0m \u001b[0mk8sclient\u001b[0m\u001b[0;34m.\u001b[0m\u001b[0mget_pods_info\u001b[0m\u001b[0;34m(\u001b[0m\u001b[0mnamespace\u001b[0m\u001b[0;34m)\u001b[0m\u001b[0;34m\u001b[0m\u001b[0m\n\u001b[0m\u001b[1;32m     82\u001b[0m \u001b[0;34m\u001b[0m\u001b[0m\n\u001b[1;32m     83\u001b[0m \u001b[0;34m\u001b[0m\u001b[0m\n",
      "\u001b[0;32m/home/xzy/PycharmProjects/misc/myproject/k8sft/k8sclient/K8SClient.pyc\u001b[0m in \u001b[0;36mget_pods_info\u001b[0;34m(self, namespace)\u001b[0m\n\u001b[1;32m    129\u001b[0m \u001b[0;34m\u001b[0m\u001b[0m\n\u001b[1;32m    130\u001b[0m     \u001b[0;32mdef\u001b[0m \u001b[0mget_pods_info\u001b[0m\u001b[0;34m(\u001b[0m\u001b[0mself\u001b[0m\u001b[0;34m,\u001b[0m \u001b[0mnamespace\u001b[0m\u001b[0;34m)\u001b[0m\u001b[0;34m:\u001b[0m\u001b[0;34m\u001b[0m\u001b[0m\n\u001b[0;32m--> 131\u001b[0;31m         \u001b[0;32mreturn\u001b[0m \u001b[0mself\u001b[0m\u001b[0;34m.\u001b[0m\u001b[0mapiV1\u001b[0m\u001b[0;34m.\u001b[0m\u001b[0mlist_namespaced_pod\u001b[0m\u001b[0;34m(\u001b[0m\u001b[0mnamespace\u001b[0m\u001b[0;34m=\u001b[0m\u001b[0mnamespace\u001b[0m\u001b[0;34m)\u001b[0m\u001b[0;34m.\u001b[0m\u001b[0mitems\u001b[0m\u001b[0;34m\u001b[0m\u001b[0m\n\u001b[0m\u001b[1;32m    132\u001b[0m \u001b[0;34m\u001b[0m\u001b[0m\n\u001b[1;32m    133\u001b[0m     \u001b[0;32mdef\u001b[0m \u001b[0msend_remove_pod_request\u001b[0m\u001b[0;34m(\u001b[0m\u001b[0mself\u001b[0m\u001b[0;34m,\u001b[0m \u001b[0mnamespace\u001b[0m\u001b[0;34m,\u001b[0m \u001b[0mname\u001b[0m\u001b[0;34m,\u001b[0m \u001b[0mthrow_exp\u001b[0m\u001b[0;34m=\u001b[0m\u001b[0mTrue\u001b[0m\u001b[0;34m)\u001b[0m\u001b[0;34m:\u001b[0m\u001b[0;34m\u001b[0m\u001b[0m\n",
      "\u001b[0;32m/home/xzy/workspace/python/myenv/local/lib/python2.7/site-packages/kubernetes/client/apis/core_v1_api.pyc\u001b[0m in \u001b[0;36mlist_namespaced_pod\u001b[0;34m(self, namespace, **kwargs)\u001b[0m\n\u001b[1;32m  13058\u001b[0m             \u001b[0;32mreturn\u001b[0m \u001b[0mself\u001b[0m\u001b[0;34m.\u001b[0m\u001b[0mlist_namespaced_pod_with_http_info\u001b[0m\u001b[0;34m(\u001b[0m\u001b[0mnamespace\u001b[0m\u001b[0;34m,\u001b[0m \u001b[0;34m**\u001b[0m\u001b[0mkwargs\u001b[0m\u001b[0;34m)\u001b[0m\u001b[0;34m\u001b[0m\u001b[0m\n\u001b[1;32m  13059\u001b[0m         \u001b[0;32melse\u001b[0m\u001b[0;34m:\u001b[0m\u001b[0;34m\u001b[0m\u001b[0m\n\u001b[0;32m> 13060\u001b[0;31m             \u001b[0;34m(\u001b[0m\u001b[0mdata\u001b[0m\u001b[0;34m)\u001b[0m \u001b[0;34m=\u001b[0m \u001b[0mself\u001b[0m\u001b[0;34m.\u001b[0m\u001b[0mlist_namespaced_pod_with_http_info\u001b[0m\u001b[0;34m(\u001b[0m\u001b[0mnamespace\u001b[0m\u001b[0;34m,\u001b[0m \u001b[0;34m**\u001b[0m\u001b[0mkwargs\u001b[0m\u001b[0;34m)\u001b[0m\u001b[0;34m\u001b[0m\u001b[0m\n\u001b[0m\u001b[1;32m  13061\u001b[0m             \u001b[0;32mreturn\u001b[0m \u001b[0mdata\u001b[0m\u001b[0;34m\u001b[0m\u001b[0m\n\u001b[1;32m  13062\u001b[0m \u001b[0;34m\u001b[0m\u001b[0m\n",
      "\u001b[0;32m/home/xzy/workspace/python/myenv/local/lib/python2.7/site-packages/kubernetes/client/apis/core_v1_api.pyc\u001b[0m in \u001b[0;36mlist_namespaced_pod_with_http_info\u001b[0;34m(self, namespace, **kwargs)\u001b[0m\n\u001b[1;32m  13160\u001b[0m                                         \u001b[0m_preload_content\u001b[0m\u001b[0;34m=\u001b[0m\u001b[0mparams\u001b[0m\u001b[0;34m.\u001b[0m\u001b[0mget\u001b[0m\u001b[0;34m(\u001b[0m\u001b[0;34m'_preload_content'\u001b[0m\u001b[0;34m,\u001b[0m \u001b[0mTrue\u001b[0m\u001b[0;34m)\u001b[0m\u001b[0;34m,\u001b[0m\u001b[0;34m\u001b[0m\u001b[0m\n\u001b[1;32m  13161\u001b[0m                                         \u001b[0m_request_timeout\u001b[0m\u001b[0;34m=\u001b[0m\u001b[0mparams\u001b[0m\u001b[0;34m.\u001b[0m\u001b[0mget\u001b[0m\u001b[0;34m(\u001b[0m\u001b[0;34m'_request_timeout'\u001b[0m\u001b[0;34m)\u001b[0m\u001b[0;34m,\u001b[0m\u001b[0;34m\u001b[0m\u001b[0m\n\u001b[0;32m> 13162\u001b[0;31m                                         collection_formats=collection_formats)\n\u001b[0m\u001b[1;32m  13163\u001b[0m \u001b[0;34m\u001b[0m\u001b[0m\n\u001b[1;32m  13164\u001b[0m     \u001b[0;32mdef\u001b[0m \u001b[0mlist_namespaced_pod_template\u001b[0m\u001b[0;34m(\u001b[0m\u001b[0mself\u001b[0m\u001b[0;34m,\u001b[0m \u001b[0mnamespace\u001b[0m\u001b[0;34m,\u001b[0m \u001b[0;34m**\u001b[0m\u001b[0mkwargs\u001b[0m\u001b[0;34m)\u001b[0m\u001b[0;34m:\u001b[0m\u001b[0;34m\u001b[0m\u001b[0m\n",
      "\u001b[0;32m/home/xzy/workspace/python/myenv/local/lib/python2.7/site-packages/kubernetes/client/api_client.pyc\u001b[0m in \u001b[0;36mcall_api\u001b[0;34m(self, resource_path, method, path_params, query_params, header_params, body, post_params, files, response_type, auth_settings, callback, _return_http_data_only, collection_formats, _preload_content, _request_timeout)\u001b[0m\n\u001b[1;32m    333\u001b[0m                                    \u001b[0mresponse_type\u001b[0m\u001b[0;34m,\u001b[0m \u001b[0mauth_settings\u001b[0m\u001b[0;34m,\u001b[0m \u001b[0mcallback\u001b[0m\u001b[0;34m,\u001b[0m\u001b[0;34m\u001b[0m\u001b[0m\n\u001b[1;32m    334\u001b[0m                                    \u001b[0m_return_http_data_only\u001b[0m\u001b[0;34m,\u001b[0m \u001b[0mcollection_formats\u001b[0m\u001b[0;34m,\u001b[0m\u001b[0;34m\u001b[0m\u001b[0m\n\u001b[0;32m--> 335\u001b[0;31m                                    _preload_content, _request_timeout)\n\u001b[0m\u001b[1;32m    336\u001b[0m         \u001b[0;32melse\u001b[0m\u001b[0;34m:\u001b[0m\u001b[0;34m\u001b[0m\u001b[0m\n\u001b[1;32m    337\u001b[0m             thread = threading.Thread(target=self.__call_api,\n",
      "\u001b[0;32m/home/xzy/workspace/python/myenv/local/lib/python2.7/site-packages/kubernetes/client/api_client.pyc\u001b[0m in \u001b[0;36m__call_api\u001b[0;34m(self, resource_path, method, path_params, query_params, header_params, body, post_params, files, response_type, auth_settings, callback, _return_http_data_only, collection_formats, _preload_content, _request_timeout)\u001b[0m\n\u001b[1;32m    146\u001b[0m                                      \u001b[0mpost_params\u001b[0m\u001b[0;34m=\u001b[0m\u001b[0mpost_params\u001b[0m\u001b[0;34m,\u001b[0m \u001b[0mbody\u001b[0m\u001b[0;34m=\u001b[0m\u001b[0mbody\u001b[0m\u001b[0;34m,\u001b[0m\u001b[0;34m\u001b[0m\u001b[0m\n\u001b[1;32m    147\u001b[0m                                      \u001b[0m_preload_content\u001b[0m\u001b[0;34m=\u001b[0m\u001b[0m_preload_content\u001b[0m\u001b[0;34m,\u001b[0m\u001b[0;34m\u001b[0m\u001b[0m\n\u001b[0;32m--> 148\u001b[0;31m                                      _request_timeout=_request_timeout)\n\u001b[0m\u001b[1;32m    149\u001b[0m \u001b[0;34m\u001b[0m\u001b[0m\n\u001b[1;32m    150\u001b[0m         \u001b[0mself\u001b[0m\u001b[0;34m.\u001b[0m\u001b[0mlast_response\u001b[0m \u001b[0;34m=\u001b[0m \u001b[0mresponse_data\u001b[0m\u001b[0;34m\u001b[0m\u001b[0m\n",
      "\u001b[0;32m/home/xzy/workspace/python/myenv/local/lib/python2.7/site-packages/kubernetes/client/api_client.pyc\u001b[0m in \u001b[0;36mrequest\u001b[0;34m(self, method, url, query_params, headers, post_params, body, _preload_content, _request_timeout)\u001b[0m\n\u001b[1;32m    369\u001b[0m                                         \u001b[0m_preload_content\u001b[0m\u001b[0;34m=\u001b[0m\u001b[0m_preload_content\u001b[0m\u001b[0;34m,\u001b[0m\u001b[0;34m\u001b[0m\u001b[0m\n\u001b[1;32m    370\u001b[0m                                         \u001b[0m_request_timeout\u001b[0m\u001b[0;34m=\u001b[0m\u001b[0m_request_timeout\u001b[0m\u001b[0;34m,\u001b[0m\u001b[0;34m\u001b[0m\u001b[0m\n\u001b[0;32m--> 371\u001b[0;31m                                         headers=headers)\n\u001b[0m\u001b[1;32m    372\u001b[0m         \u001b[0;32melif\u001b[0m \u001b[0mmethod\u001b[0m \u001b[0;34m==\u001b[0m \u001b[0;34m\"HEAD\"\u001b[0m\u001b[0;34m:\u001b[0m\u001b[0;34m\u001b[0m\u001b[0m\n\u001b[1;32m    373\u001b[0m             return self.rest_client.HEAD(url,\n",
      "\u001b[0;32m/home/xzy/workspace/python/myenv/local/lib/python2.7/site-packages/kubernetes/client/rest.pyc\u001b[0m in \u001b[0;36mGET\u001b[0;34m(self, url, headers, query_params, _preload_content, _request_timeout)\u001b[0m\n\u001b[1;32m    248\u001b[0m                             \u001b[0m_preload_content\u001b[0m\u001b[0;34m=\u001b[0m\u001b[0m_preload_content\u001b[0m\u001b[0;34m,\u001b[0m\u001b[0;34m\u001b[0m\u001b[0m\n\u001b[1;32m    249\u001b[0m                             \u001b[0m_request_timeout\u001b[0m\u001b[0;34m=\u001b[0m\u001b[0m_request_timeout\u001b[0m\u001b[0;34m,\u001b[0m\u001b[0;34m\u001b[0m\u001b[0m\n\u001b[0;32m--> 250\u001b[0;31m                             query_params=query_params)\n\u001b[0m\u001b[1;32m    251\u001b[0m \u001b[0;34m\u001b[0m\u001b[0m\n\u001b[1;32m    252\u001b[0m     def HEAD(self, url, headers=None, query_params=None, _preload_content=True,\n",
      "\u001b[0;32m/home/xzy/workspace/python/myenv/local/lib/python2.7/site-packages/kubernetes/client/rest.pyc\u001b[0m in \u001b[0;36mrequest\u001b[0;34m(self, method, url, query_params, headers, body, post_params, _preload_content, _request_timeout)\u001b[0m\n\u001b[1;32m    238\u001b[0m \u001b[0;34m\u001b[0m\u001b[0m\n\u001b[1;32m    239\u001b[0m         \u001b[0;32mif\u001b[0m \u001b[0mr\u001b[0m\u001b[0;34m.\u001b[0m\u001b[0mstatus\u001b[0m \u001b[0;32mnot\u001b[0m \u001b[0;32min\u001b[0m \u001b[0mrange\u001b[0m\u001b[0;34m(\u001b[0m\u001b[0;36m200\u001b[0m\u001b[0;34m,\u001b[0m \u001b[0;36m206\u001b[0m\u001b[0;34m)\u001b[0m\u001b[0;34m:\u001b[0m\u001b[0;34m\u001b[0m\u001b[0m\n\u001b[0;32m--> 240\u001b[0;31m             \u001b[0;32mraise\u001b[0m \u001b[0mApiException\u001b[0m\u001b[0;34m(\u001b[0m\u001b[0mhttp_resp\u001b[0m\u001b[0;34m=\u001b[0m\u001b[0mr\u001b[0m\u001b[0;34m)\u001b[0m\u001b[0;34m\u001b[0m\u001b[0m\n\u001b[0m\u001b[1;32m    241\u001b[0m \u001b[0;34m\u001b[0m\u001b[0m\n\u001b[1;32m    242\u001b[0m         \u001b[0;32mreturn\u001b[0m \u001b[0mr\u001b[0m\u001b[0;34m\u001b[0m\u001b[0m\n",
      "\u001b[0;31mApiException\u001b[0m: (403)\nReason: \nHTTP response headers: HTTPHeaderDict({'Transfer-Encoding': 'chunked', 'Date': 'Thu, 21 Sep 2017 06:28:32 GMT', 'Content-Type': 'application/json', 'X-Application-Context': 'application:prod:8809'})\nHTTP response body: {\"code\":8090002,\"message\":\"the user has no permission to access the resources\",\"payload\":{}}\n"
     ]
    }
   ],
   "source": [
    "from k8sclient.dataframes import collect_all_pods\n",
    "pods = collect_all_pods()"
   ]
  },
  {
   "cell_type": "code",
   "execution_count": 8,
   "metadata": {},
   "outputs": [
    {
     "data": {
      "text/plain": [
       "Index([u'args', u'command', u'image', u'image_pull_policy', u'lcpu',\n",
       "       u'lmemory', u'name', u'pod_id', u'rcpu', u'ready', u'restart_count',\n",
       "       u'rmemory', u'state'],\n",
       "      dtype='object')"
      ]
     },
     "execution_count": 8,
     "metadata": {},
     "output_type": "execute_result"
    }
   ],
   "source": [
    "pods['container'].columns"
   ]
  },
  {
   "cell_type": "markdown",
   "metadata": {},
   "source": [
    "#### list abnormal pods"
   ]
  },
  {
   "cell_type": "code",
   "execution_count": 5,
   "metadata": {
    "scrolled": false
   },
   "outputs": [
    {
     "data": {
      "text/html": [
       "<div>\n",
       "<style>\n",
       "    .dataframe thead tr:only-child th {\n",
       "        text-align: right;\n",
       "    }\n",
       "\n",
       "    .dataframe thead th {\n",
       "        text-align: left;\n",
       "    }\n",
       "\n",
       "    .dataframe tbody tr th {\n",
       "        vertical-align: top;\n",
       "    }\n",
       "</style>\n",
       "<table border=\"1\" class=\"dataframe\">\n",
       "  <thead>\n",
       "    <tr style=\"text-align: right;\">\n",
       "      <th></th>\n",
       "      <th></th>\n",
       "      <th>count</th>\n",
       "    </tr>\n",
       "    <tr>\n",
       "      <th>namespace</th>\n",
       "      <th>phase</th>\n",
       "      <th></th>\n",
       "    </tr>\n",
       "  </thead>\n",
       "  <tbody>\n",
       "    <tr>\n",
       "      <th rowspan=\"2\" valign=\"top\">ary</th>\n",
       "      <th>Pending</th>\n",
       "      <td>1</td>\n",
       "    </tr>\n",
       "    <tr>\n",
       "      <th>Running</th>\n",
       "      <td>4</td>\n",
       "    </tr>\n",
       "    <tr>\n",
       "      <th>cc-demo</th>\n",
       "      <th>Pending</th>\n",
       "      <td>3</td>\n",
       "    </tr>\n",
       "    <tr>\n",
       "      <th>cc-dev</th>\n",
       "      <th>Pending</th>\n",
       "      <td>1</td>\n",
       "    </tr>\n",
       "    <tr>\n",
       "      <th>cc-qa-test</th>\n",
       "      <th>Pending</th>\n",
       "      <td>3</td>\n",
       "    </tr>\n",
       "    <tr>\n",
       "      <th>cc-wjx-local</th>\n",
       "      <th>Pending</th>\n",
       "      <td>1</td>\n",
       "    </tr>\n",
       "    <tr>\n",
       "      <th>hadoop</th>\n",
       "      <th>Pending</th>\n",
       "      <td>2</td>\n",
       "    </tr>\n",
       "    <tr>\n",
       "      <th>health-check</th>\n",
       "      <th>Pending</th>\n",
       "      <td>4</td>\n",
       "    </tr>\n",
       "    <tr>\n",
       "      <th>impala-dq</th>\n",
       "      <th>Pending</th>\n",
       "      <td>1</td>\n",
       "    </tr>\n",
       "    <tr>\n",
       "      <th>lbsheng</th>\n",
       "      <th>Succeeded</th>\n",
       "      <td>1</td>\n",
       "    </tr>\n",
       "    <tr>\n",
       "      <th>monitor-system-alert</th>\n",
       "      <th>Running</th>\n",
       "      <td>2</td>\n",
       "    </tr>\n",
       "    <tr>\n",
       "      <th>streaming-demo</th>\n",
       "      <th>Running</th>\n",
       "      <td>2</td>\n",
       "    </tr>\n",
       "    <tr>\n",
       "      <th>yancheng-jsonnet</th>\n",
       "      <th>Pending</th>\n",
       "      <td>3</td>\n",
       "    </tr>\n",
       "    <tr>\n",
       "      <th>yiren</th>\n",
       "      <th>Running</th>\n",
       "      <td>5</td>\n",
       "    </tr>\n",
       "    <tr>\n",
       "      <th>zhuangwei</th>\n",
       "      <th>Pending</th>\n",
       "      <td>2</td>\n",
       "    </tr>\n",
       "  </tbody>\n",
       "</table>\n",
       "</div>"
      ],
      "text/plain": [
       "                                count\n",
       "namespace            phase           \n",
       "ary                  Pending        1\n",
       "                     Running        4\n",
       "cc-demo              Pending        3\n",
       "cc-dev               Pending        1\n",
       "cc-qa-test           Pending        3\n",
       "cc-wjx-local         Pending        1\n",
       "hadoop               Pending        2\n",
       "health-check         Pending        4\n",
       "impala-dq            Pending        1\n",
       "lbsheng              Succeeded      1\n",
       "monitor-system-alert Running        2\n",
       "streaming-demo       Running        2\n",
       "yancheng-jsonnet     Pending        3\n",
       "yiren                Running        5\n",
       "zhuangwei            Pending        2"
      ]
     },
     "execution_count": 5,
     "metadata": {},
     "output_type": "execute_result"
    }
   ],
   "source": [
    "container = pd.merge(pods['pod'], pods['container'], left_on=\"uid\", right_on=\"pod_id\")\n",
    "bads = container[((container['state'] != 'running') | (container['phase'] != 'Running'))]\n",
    "bb = bads[['namespace', 'pod', 'phase', 'state', 'host_ip', 'rmemory', 'rcpu', 'stime']].dropna()\n",
    "# bb[bb.phase == 'Running']\n",
    "c = bads.groupby(['namespace', \"phase\"]).size().reset_index().set_index([\"namespace\",\"phase\"])\n",
    "c.columns = ['count']\n",
    "c"
   ]
  },
  {
   "cell_type": "code",
   "execution_count": null,
   "metadata": {
    "collapsed": true
   },
   "outputs": [],
   "source": [
    "pods['pod'].columns\n",
    "# container[container.command.str.contains(\"exe\")]"
   ]
  },
  {
   "cell_type": "markdown",
   "metadata": {},
   "source": [
    "#### list pod count using host-path"
   ]
  },
  {
   "cell_type": "code",
   "execution_count": 52,
   "metadata": {
    "scrolled": true
   },
   "outputs": [
    {
     "data": {
      "text/html": [
       "<div>\n",
       "<style>\n",
       "    .dataframe thead tr:only-child th {\n",
       "        text-align: right;\n",
       "    }\n",
       "\n",
       "    .dataframe thead th {\n",
       "        text-align: left;\n",
       "    }\n",
       "\n",
       "    .dataframe tbody tr th {\n",
       "        vertical-align: top;\n",
       "    }\n",
       "</style>\n",
       "<table border=\"1\" class=\"dataframe\">\n",
       "  <thead>\n",
       "    <tr style=\"text-align: right;\">\n",
       "      <th></th>\n",
       "      <th>0</th>\n",
       "    </tr>\n",
       "    <tr>\n",
       "      <th>namespace</th>\n",
       "      <th></th>\n",
       "    </tr>\n",
       "  </thead>\n",
       "  <tbody>\n",
       "    <tr>\n",
       "      <th>4tools</th>\n",
       "      <td>2</td>\n",
       "    </tr>\n",
       "    <tr>\n",
       "      <th>ceph</th>\n",
       "      <td>118</td>\n",
       "    </tr>\n",
       "    <tr>\n",
       "      <th>ceph-dq</th>\n",
       "      <td>117</td>\n",
       "    </tr>\n",
       "    <tr>\n",
       "      <th>gaming</th>\n",
       "      <td>1</td>\n",
       "    </tr>\n",
       "    <tr>\n",
       "      <th>hadoop-dengquan</th>\n",
       "      <td>5</td>\n",
       "    </tr>\n",
       "    <tr>\n",
       "      <th>hadoop-dq</th>\n",
       "      <td>10</td>\n",
       "    </tr>\n",
       "    <tr>\n",
       "      <th>hadoop-tdd</th>\n",
       "      <td>8</td>\n",
       "    </tr>\n",
       "    <tr>\n",
       "      <th>haproxy</th>\n",
       "      <td>1</td>\n",
       "    </tr>\n",
       "    <tr>\n",
       "      <th>he2chat</th>\n",
       "      <td>1</td>\n",
       "    </tr>\n",
       "    <tr>\n",
       "      <th>jingwuyun</th>\n",
       "      <td>4</td>\n",
       "    </tr>\n",
       "    <tr>\n",
       "      <th>kube-system</th>\n",
       "      <td>123</td>\n",
       "    </tr>\n",
       "    <tr>\n",
       "      <th>monitor-system-log</th>\n",
       "      <td>108</td>\n",
       "    </tr>\n",
       "    <tr>\n",
       "      <th>tsdb</th>\n",
       "      <td>1</td>\n",
       "    </tr>\n",
       "  </tbody>\n",
       "</table>\n",
       "</div>"
      ],
      "text/plain": [
       "                      0\n",
       "namespace              \n",
       "4tools                2\n",
       "ceph                118\n",
       "ceph-dq             117\n",
       "gaming                1\n",
       "hadoop-dengquan       5\n",
       "hadoop-dq            10\n",
       "hadoop-tdd            8\n",
       "haproxy               1\n",
       "he2chat               1\n",
       "jingwuyun             4\n",
       "kube-system         123\n",
       "monitor-system-log  108\n",
       "tsdb                  1"
      ]
     },
     "execution_count": 52,
     "metadata": {},
     "output_type": "execute_result"
    }
   ],
   "source": [
    "v = pods['volume']\n",
    "hp = v[v.vtype == \"host_path\"].dropna(axis=1)\n",
    "hpp = pd.merge(pods['pod'], hp, left_on=\"uid\", right_on=\"pod_id\")\n",
    "hpp[[\"name\", \"path\", \"host_ip\", \"namespace\", \"pod\"]].groupby(\"namespace\").size().reset_index().set_index(\"namespace\")"
   ]
  },
  {
   "cell_type": "code",
   "execution_count": 22,
   "metadata": {},
   "outputs": [
    {
     "data": {
      "text/html": [
       "<div>\n",
       "<style>\n",
       "    .dataframe thead tr:only-child th {\n",
       "        text-align: right;\n",
       "    }\n",
       "\n",
       "    .dataframe thead th {\n",
       "        text-align: left;\n",
       "    }\n",
       "\n",
       "    .dataframe tbody tr th {\n",
       "        vertical-align: top;\n",
       "    }\n",
       "</style>\n",
       "<table border=\"1\" class=\"dataframe\">\n",
       "  <thead>\n",
       "    <tr style=\"text-align: right;\">\n",
       "      <th></th>\n",
       "      <th>namespace</th>\n",
       "      <th>pod</th>\n",
       "      <th>name</th>\n",
       "      <th>path</th>\n",
       "      <th>host_ip</th>\n",
       "    </tr>\n",
       "  </thead>\n",
       "  <tbody>\n",
       "    <tr>\n",
       "      <th>966</th>\n",
       "      <td>kube-system</td>\n",
       "      <td>haproxy-10.19.248.18</td>\n",
       "      <td>pem</td>\n",
       "      <td>/etc/kubernetes/ca_file/node/client.pem</td>\n",
       "      <td>10.19.248.18</td>\n",
       "    </tr>\n",
       "    <tr>\n",
       "      <th>976</th>\n",
       "      <td>kube-system</td>\n",
       "      <td>kube-lego-4026317241-w3mkf</td>\n",
       "      <td>kubeconfig</td>\n",
       "      <td>/etc/kubernetes/node-kubeconfig</td>\n",
       "      <td>10.19.248.18</td>\n",
       "    </tr>\n",
       "    <tr>\n",
       "      <th>995</th>\n",
       "      <td>kube-system</td>\n",
       "      <td>kube-proxy-10.19.248.18</td>\n",
       "      <td>logfile</td>\n",
       "      <td>/var/log/kubernetes/kube-proxy</td>\n",
       "      <td>10.19.248.18</td>\n",
       "    </tr>\n",
       "    <tr>\n",
       "      <th>996</th>\n",
       "      <td>kube-system</td>\n",
       "      <td>kube-proxy-10.19.248.18</td>\n",
       "      <td>certificate</td>\n",
       "      <td>/etc/kubernetes/</td>\n",
       "      <td>10.19.248.18</td>\n",
       "    </tr>\n",
       "  </tbody>\n",
       "</table>\n",
       "</div>"
      ],
      "text/plain": [
       "       namespace                         pod         name  \\\n",
       "966  kube-system        haproxy-10.19.248.18          pem   \n",
       "976  kube-system  kube-lego-4026317241-w3mkf   kubeconfig   \n",
       "995  kube-system     kube-proxy-10.19.248.18      logfile   \n",
       "996  kube-system     kube-proxy-10.19.248.18  certificate   \n",
       "\n",
       "                                        path       host_ip  \n",
       "966  /etc/kubernetes/ca_file/node/client.pem  10.19.248.18  \n",
       "976          /etc/kubernetes/node-kubeconfig  10.19.248.18  \n",
       "995           /var/log/kubernetes/kube-proxy  10.19.248.18  \n",
       "996                         /etc/kubernetes/  10.19.248.18  "
      ]
     },
     "execution_count": 22,
     "metadata": {},
     "output_type": "execute_result"
    }
   ],
   "source": [
    "v = pods['volume']\n",
    "tv = pd.merge(pods['pod'], v, left_on=\"uid\", right_on=\"pod_id\")\n",
    "t = tv[[\"namespace\", \"pod\", 'name', 'path', \"host_ip\"]].dropna()\n",
    "tt = t[t.path.str.contains(\"kubernetes\")]\n",
    "tt[tt.host_ip == \"10.19.248.18\"]"
   ]
  },
  {
   "cell_type": "code",
   "execution_count": 53,
   "metadata": {},
   "outputs": [
    {
     "data": {
      "text/html": [
       "<div>\n",
       "<style>\n",
       "    .dataframe thead tr:only-child th {\n",
       "        text-align: right;\n",
       "    }\n",
       "\n",
       "    .dataframe thead th {\n",
       "        text-align: left;\n",
       "    }\n",
       "\n",
       "    .dataframe tbody tr th {\n",
       "        vertical-align: top;\n",
       "    }\n",
       "</style>\n",
       "<table border=\"1\" class=\"dataframe\">\n",
       "  <thead>\n",
       "    <tr style=\"text-align: right;\">\n",
       "      <th></th>\n",
       "      <th>cluster_name</th>\n",
       "      <th>ctime</th>\n",
       "      <th>dns_policy</th>\n",
       "      <th>host_ip</th>\n",
       "      <th>host_ipc</th>\n",
       "      <th>host_network</th>\n",
       "      <th>host_pid</th>\n",
       "      <th>namespace</th>\n",
       "      <th>node_name</th>\n",
       "      <th>phase</th>\n",
       "      <th>pod</th>\n",
       "      <th>pod_ip</th>\n",
       "      <th>restart_policy</th>\n",
       "      <th>stime</th>\n",
       "      <th>uid</th>\n",
       "      <th>name</th>\n",
       "      <th>path</th>\n",
       "      <th>pod_id</th>\n",
       "      <th>vtype</th>\n",
       "    </tr>\n",
       "  </thead>\n",
       "  <tbody>\n",
       "    <tr>\n",
       "      <th>263</th>\n",
       "      <td>None</td>\n",
       "      <td>2017-07-28 07:01:17+00:00</td>\n",
       "      <td>ClusterFirst</td>\n",
       "      <td>10.19.248.14</td>\n",
       "      <td>None</td>\n",
       "      <td>None</td>\n",
       "      <td>None</td>\n",
       "      <td>jingwuyun</td>\n",
       "      <td>10.19.248.14</td>\n",
       "      <td>Running</td>\n",
       "      <td>jenkins-slave-alpine-git-260601664-6fflf</td>\n",
       "      <td>172.16.121.29</td>\n",
       "      <td>Always</td>\n",
       "      <td>2017-07-28 07:01:18+00:00</td>\n",
       "      <td>8d5d5651-7362-11e7-a0f0-244427a00052</td>\n",
       "      <td>docker-socket</td>\n",
       "      <td>/var/run/docker.sock</td>\n",
       "      <td>8d5d5651-7362-11e7-a0f0-244427a00052</td>\n",
       "      <td>host_path</td>\n",
       "    </tr>\n",
       "    <tr>\n",
       "      <th>264</th>\n",
       "      <td>None</td>\n",
       "      <td>2017-07-28 07:01:17+00:00</td>\n",
       "      <td>ClusterFirst</td>\n",
       "      <td>10.19.248.14</td>\n",
       "      <td>None</td>\n",
       "      <td>None</td>\n",
       "      <td>None</td>\n",
       "      <td>jingwuyun</td>\n",
       "      <td>10.19.248.14</td>\n",
       "      <td>Running</td>\n",
       "      <td>jenkins-slave-alpine-git-260601664-6fflf</td>\n",
       "      <td>172.16.121.29</td>\n",
       "      <td>Always</td>\n",
       "      <td>2017-07-28 07:01:18+00:00</td>\n",
       "      <td>8d5d5651-7362-11e7-a0f0-244427a00052</td>\n",
       "      <td>kubeconfig</td>\n",
       "      <td>/etc/kubernetes/node-kubeconfig</td>\n",
       "      <td>8d5d5651-7362-11e7-a0f0-244427a00052</td>\n",
       "      <td>host_path</td>\n",
       "    </tr>\n",
       "    <tr>\n",
       "      <th>265</th>\n",
       "      <td>None</td>\n",
       "      <td>2017-07-28 07:01:17+00:00</td>\n",
       "      <td>ClusterFirst</td>\n",
       "      <td>10.19.248.14</td>\n",
       "      <td>None</td>\n",
       "      <td>None</td>\n",
       "      <td>None</td>\n",
       "      <td>jingwuyun</td>\n",
       "      <td>10.19.248.14</td>\n",
       "      <td>Running</td>\n",
       "      <td>jenkins-slave-jwy-358576113-c5vd2</td>\n",
       "      <td>172.16.121.31</td>\n",
       "      <td>Always</td>\n",
       "      <td>2017-07-28 07:01:18+00:00</td>\n",
       "      <td>8d80e8c8-7362-11e7-a0f0-244427a00052</td>\n",
       "      <td>docker-socket</td>\n",
       "      <td>/var/run/docker.sock</td>\n",
       "      <td>8d80e8c8-7362-11e7-a0f0-244427a00052</td>\n",
       "      <td>host_path</td>\n",
       "    </tr>\n",
       "    <tr>\n",
       "      <th>266</th>\n",
       "      <td>None</td>\n",
       "      <td>2017-07-28 07:01:17+00:00</td>\n",
       "      <td>ClusterFirst</td>\n",
       "      <td>10.19.248.14</td>\n",
       "      <td>None</td>\n",
       "      <td>None</td>\n",
       "      <td>None</td>\n",
       "      <td>jingwuyun</td>\n",
       "      <td>10.19.248.14</td>\n",
       "      <td>Running</td>\n",
       "      <td>jenkins-slave-jwy-358576113-c5vd2</td>\n",
       "      <td>172.16.121.31</td>\n",
       "      <td>Always</td>\n",
       "      <td>2017-07-28 07:01:18+00:00</td>\n",
       "      <td>8d80e8c8-7362-11e7-a0f0-244427a00052</td>\n",
       "      <td>kubeconfig</td>\n",
       "      <td>/etc/kubernetes/node-kubeconfig</td>\n",
       "      <td>8d80e8c8-7362-11e7-a0f0-244427a00052</td>\n",
       "      <td>host_path</td>\n",
       "    </tr>\n",
       "  </tbody>\n",
       "</table>\n",
       "</div>"
      ],
      "text/plain": [
       "    cluster_name                     ctime    dns_policy       host_ip  \\\n",
       "263         None 2017-07-28 07:01:17+00:00  ClusterFirst  10.19.248.14   \n",
       "264         None 2017-07-28 07:01:17+00:00  ClusterFirst  10.19.248.14   \n",
       "265         None 2017-07-28 07:01:17+00:00  ClusterFirst  10.19.248.14   \n",
       "266         None 2017-07-28 07:01:17+00:00  ClusterFirst  10.19.248.14   \n",
       "\n",
       "    host_ipc host_network host_pid  namespace     node_name    phase  \\\n",
       "263     None         None     None  jingwuyun  10.19.248.14  Running   \n",
       "264     None         None     None  jingwuyun  10.19.248.14  Running   \n",
       "265     None         None     None  jingwuyun  10.19.248.14  Running   \n",
       "266     None         None     None  jingwuyun  10.19.248.14  Running   \n",
       "\n",
       "                                          pod         pod_ip restart_policy  \\\n",
       "263  jenkins-slave-alpine-git-260601664-6fflf  172.16.121.29         Always   \n",
       "264  jenkins-slave-alpine-git-260601664-6fflf  172.16.121.29         Always   \n",
       "265         jenkins-slave-jwy-358576113-c5vd2  172.16.121.31         Always   \n",
       "266         jenkins-slave-jwy-358576113-c5vd2  172.16.121.31         Always   \n",
       "\n",
       "                         stime                                   uid  \\\n",
       "263  2017-07-28 07:01:18+00:00  8d5d5651-7362-11e7-a0f0-244427a00052   \n",
       "264  2017-07-28 07:01:18+00:00  8d5d5651-7362-11e7-a0f0-244427a00052   \n",
       "265  2017-07-28 07:01:18+00:00  8d80e8c8-7362-11e7-a0f0-244427a00052   \n",
       "266  2017-07-28 07:01:18+00:00  8d80e8c8-7362-11e7-a0f0-244427a00052   \n",
       "\n",
       "              name                             path  \\\n",
       "263  docker-socket             /var/run/docker.sock   \n",
       "264     kubeconfig  /etc/kubernetes/node-kubeconfig   \n",
       "265  docker-socket             /var/run/docker.sock   \n",
       "266     kubeconfig  /etc/kubernetes/node-kubeconfig   \n",
       "\n",
       "                                   pod_id      vtype  \n",
       "263  8d5d5651-7362-11e7-a0f0-244427a00052  host_path  \n",
       "264  8d5d5651-7362-11e7-a0f0-244427a00052  host_path  \n",
       "265  8d80e8c8-7362-11e7-a0f0-244427a00052  host_path  \n",
       "266  8d80e8c8-7362-11e7-a0f0-244427a00052  host_path  "
      ]
     },
     "execution_count": 53,
     "metadata": {},
     "output_type": "execute_result"
    }
   ],
   "source": [
    "hpp[hpp.namespace==\"jingwuyun\"]"
   ]
  },
  {
   "cell_type": "markdown",
   "metadata": {},
   "source": [
    "#### found 0 limit pods"
   ]
  },
  {
   "cell_type": "code",
   "execution_count": 6,
   "metadata": {
    "scrolled": false
   },
   "outputs": [
    {
     "data": {
      "text/html": [
       "<div>\n",
       "<style>\n",
       "    .dataframe thead tr:only-child th {\n",
       "        text-align: right;\n",
       "    }\n",
       "\n",
       "    .dataframe thead th {\n",
       "        text-align: left;\n",
       "    }\n",
       "\n",
       "    .dataframe tbody tr th {\n",
       "        vertical-align: top;\n",
       "    }\n",
       "</style>\n",
       "<table border=\"1\" class=\"dataframe\">\n",
       "  <thead>\n",
       "    <tr style=\"text-align: right;\">\n",
       "      <th></th>\n",
       "      <th>#pods without memory/cpu limit</th>\n",
       "    </tr>\n",
       "    <tr>\n",
       "      <th>namespace</th>\n",
       "      <th></th>\n",
       "    </tr>\n",
       "  </thead>\n",
       "  <tbody>\n",
       "    <tr>\n",
       "      <th>cc-demo</th>\n",
       "      <td>1</td>\n",
       "    </tr>\n",
       "    <tr>\n",
       "      <th>cc-dev</th>\n",
       "      <td>1</td>\n",
       "    </tr>\n",
       "    <tr>\n",
       "      <th>cc-itg</th>\n",
       "      <td>1</td>\n",
       "    </tr>\n",
       "    <tr>\n",
       "      <th>cc-stage</th>\n",
       "      <td>1</td>\n",
       "    </tr>\n",
       "    <tr>\n",
       "      <th>ccc-hadoop0</th>\n",
       "      <td>17</td>\n",
       "    </tr>\n",
       "    <tr>\n",
       "      <th>dataflow-demo-ye</th>\n",
       "      <td>4</td>\n",
       "    </tr>\n",
       "    <tr>\n",
       "      <th>liye-test-sh</th>\n",
       "      <td>5</td>\n",
       "    </tr>\n",
       "    <tr>\n",
       "      <th>monitor-essential-service</th>\n",
       "      <td>9</td>\n",
       "    </tr>\n",
       "    <tr>\n",
       "      <th>ping</th>\n",
       "      <td>14</td>\n",
       "    </tr>\n",
       "    <tr>\n",
       "      <th>shared-hdfs</th>\n",
       "      <td>16</td>\n",
       "    </tr>\n",
       "    <tr>\n",
       "      <th>zhangyis16</th>\n",
       "      <td>4</td>\n",
       "    </tr>\n",
       "  </tbody>\n",
       "</table>\n",
       "</div>"
      ],
      "text/plain": [
       "                           #pods without memory/cpu limit\n",
       "namespace                                                \n",
       "cc-demo                                                 1\n",
       "cc-dev                                                  1\n",
       "cc-itg                                                  1\n",
       "cc-stage                                                1\n",
       "ccc-hadoop0                                            17\n",
       "dataflow-demo-ye                                        4\n",
       "liye-test-sh                                            5\n",
       "monitor-essential-service                               9\n",
       "ping                                                   14\n",
       "shared-hdfs                                            16\n",
       "zhangyis16                                              4"
      ]
     },
     "execution_count": 6,
     "metadata": {},
     "output_type": "execute_result"
    }
   ],
   "source": [
    "container = pd.merge(pods['pod'], pods['container'], left_on=\"uid\", right_on=\"pod_id\")\n",
    "runnings = container[(container['state'] == 'running') & (container['phase'] == 'Running')]\n",
    "bads = runnings[(runnings.lmemory == 0) | (runnings.lcpu == 0)]\n",
    "pd.DataFrame({\"#pods without memory/cpu limit\": bads.groupby(\"namespace\").size()})"
   ]
  },
  {
   "cell_type": "markdown",
   "metadata": {},
   "source": [
    "#### cpu request too much"
   ]
  },
  {
   "cell_type": "code",
   "execution_count": 8,
   "metadata": {},
   "outputs": [
    {
     "data": {
      "text/html": [
       "<div>\n",
       "<style>\n",
       "    .dataframe thead tr:only-child th {\n",
       "        text-align: right;\n",
       "    }\n",
       "\n",
       "    .dataframe thead th {\n",
       "        text-align: left;\n",
       "    }\n",
       "\n",
       "    .dataframe tbody tr th {\n",
       "        vertical-align: top;\n",
       "    }\n",
       "</style>\n",
       "<table border=\"1\" class=\"dataframe\">\n",
       "  <thead>\n",
       "    <tr style=\"text-align: right;\">\n",
       "      <th></th>\n",
       "      <th>namespace</th>\n",
       "      <th>pod</th>\n",
       "      <th>rcpu</th>\n",
       "      <th>rmemory</th>\n",
       "    </tr>\n",
       "  </thead>\n",
       "  <tbody>\n",
       "    <tr>\n",
       "      <th>517</th>\n",
       "      <td>yechunan</td>\n",
       "      <td>orientdb-313092577-nl34c</td>\n",
       "      <td>2.0</td>\n",
       "      <td>2.000000</td>\n",
       "    </tr>\n",
       "    <tr>\n",
       "      <th>35</th>\n",
       "      <td>cc-dev</td>\n",
       "      <td>cc-template-194725396-hmr4z</td>\n",
       "      <td>1.3</td>\n",
       "      <td>1.855469</td>\n",
       "    </tr>\n",
       "  </tbody>\n",
       "</table>\n",
       "</div>"
      ],
      "text/plain": [
       "    namespace                          pod  rcpu   rmemory\n",
       "517  yechunan     orientdb-313092577-nl34c   2.0  2.000000\n",
       "35     cc-dev  cc-template-194725396-hmr4z   1.3  1.855469"
      ]
     },
     "execution_count": 8,
     "metadata": {},
     "output_type": "execute_result"
    }
   ],
   "source": [
    "container = pd.merge(pods['pod'], pods['container'], left_on=\"uid\", right_on=\"pod_id\")\n",
    "# runnings = container[(container['state'] == 'running') & (container['phase'] == 'Running')]\n",
    "runnings = container[(container['state'] == 'running')]\n",
    "bads = runnings[(runnings.rcpu > 1) ]\n",
    "bads[['namespace', \"pod\", 'rcpu', 'rmemory']].sort_values(by=\"rcpu\", ascending=False)"
   ]
  },
  {
   "cell_type": "markdown",
   "metadata": {},
   "source": [
    "#### simple plot"
   ]
  },
  {
   "cell_type": "code",
   "execution_count": 9,
   "metadata": {},
   "outputs": [
    {
     "data": {
      "text/plain": [
       "<matplotlib.axes._subplots.AxesSubplot at 0x7fc51768a9d0>"
      ]
     },
     "execution_count": 9,
     "metadata": {},
     "output_type": "execute_result"
    },
    {
     "data": {
      "image/png": "[encoded data removed]",
      "text/plain": [
       "<matplotlib.figure.Figure at 0x7fc5177ea9d0>"
      ]
     },
     "metadata": {},
     "output_type": "display_data"
    }
   ],
   "source": [
    "bins = pods['pod'].groupby(['namespace']).size()\n",
    "bins.plot(kind=\"bar\", figsize=(20,10))\n"
   ]
  },
  {
   "cell_type": "markdown",
   "metadata": {},
   "source": [
    "#### plot node resource request percentage"
   ]
  },
  {
   "cell_type": "code",
   "execution_count": 3,
   "metadata": {
    "scrolled": false
   },
   "outputs": [
    {
     "data": {
      "text/plain": [
       "<matplotlib.axes._subplots.AxesSubplot at 0x7f0137ad6f50>"
      ]
     },
     "execution_count": 3,
     "metadata": {},
     "output_type": "execute_result"
    },
    {
     "data": {
      "image/png": "[encoded data removed]",
      "text/plain": [
       "<matplotlib.figure.Figure at 0x7f0137ad62d0>"
      ]
     },
     "metadata": {},
     "output_type": "display_data"
    }
   ],
   "source": [
    "container = pd.merge(pods['pod'], pods['container'], left_on=\"uid\", right_on=\"pod_id\")\n",
    "# runnings = container[(container['state'] == 'running') & (container['phase'] == 'Running')]\n",
    "runnings = container[(container['phase'] == 'Running')]\n",
    "res = runnings[[\"host_ip\", \"rcpu\", \"rmemory\",]]# \"lcpu\", \"lmemory\", \"pod\"]]\n",
    "# res.groupby('host_ip').sum().plot(kind='bar')\n",
    "# percentage\n",
    "a = res.groupby('host_ip').sum()\n",
    "from k8sclient.dataframes import collect_nodes\n",
    "nodes = collect_nodes().set_index(\"name\")[[\"a-cpu\", \"a-memory\"]]\n",
    "b = pd.concat([a, nodes], axis=1)\n",
    "b[\"cpu-percent\"] = b['rcpu']*100/b['a-cpu']\n",
    "b[\"memory-percent\"] = b['rmemory']*100/b['a-memory']\n",
    "b[['cpu-percent', \"memory-percent\"]].plot(kind='bar', figsize=(12,8))"
   ]
  },
  {
   "cell_type": "code",
   "execution_count": 22,
   "metadata": {},
   "outputs": [
    {
     "data": {
      "text/plain": [
       "<matplotlib.axes._subplots.AxesSubplot at 0x7fb1447e3490>"
      ]
     },
     "execution_count": 22,
     "metadata": {},
     "output_type": "execute_result"
    },
    {
     "data": {
      "image/png": "[encoded data removed]",
      "text/plain": [
       "<matplotlib.figure.Figure at 0x7fb1447da850>"
      ]
     },
     "metadata": {},
     "output_type": "display_data"
    }
   ],
   "source": [
    "res_namespace = runnings[[\"namespace\", \"rcpu\", \"rmemory\",]]\n",
    "b = res_namespace.groupby('namespace').sum()\n",
    "b[b.rcpu > 0]['rcpu'].plot(kind='barh', figsize=(12,8))"
   ]
  },
  {
   "cell_type": "markdown",
   "metadata": {},
   "source": [
    "#### find memory request -ill configured pods"
   ]
  },
  {
   "cell_type": "code",
   "execution_count": 11,
   "metadata": {},
   "outputs": [
    {
     "data": {
      "text/html": [
       "<div>\n",
       "<style>\n",
       "    .dataframe thead tr:only-child th {\n",
       "        text-align: right;\n",
       "    }\n",
       "\n",
       "    .dataframe thead th {\n",
       "        text-align: left;\n",
       "    }\n",
       "\n",
       "    .dataframe tbody tr th {\n",
       "        vertical-align: top;\n",
       "    }\n",
       "</style>\n",
       "<table border=\"1\" class=\"dataframe\">\n",
       "  <thead>\n",
       "    <tr style=\"text-align: right;\">\n",
       "      <th></th>\n",
       "      <th>namespace</th>\n",
       "      <th>pod</th>\n",
       "      <th>rmemory</th>\n",
       "    </tr>\n",
       "  </thead>\n",
       "  <tbody>\n",
       "  </tbody>\n",
       "</table>\n",
       "</div>"
      ],
      "text/plain": [
       "Empty DataFrame\n",
       "Columns: [namespace, pod, rmemory]\n",
       "Index: []"
      ]
     },
     "execution_count": 11,
     "metadata": {},
     "output_type": "execute_result"
    }
   ],
   "source": [
    "container = pd.merge(pods['pod'], pods['container'], left_on=\"uid\", right_on=\"pod_id\")\n",
    "runnings = container[(container['state'] == 'running') & (container['phase'] == 'Running')]\n",
    "bads = runnings[(runnings.rmemory > 64) | (runnings.lmemory > 64)]\n",
    "bads[['namespace', \"pod\", 'rmemory']]"
   ]
  },
  {
   "cell_type": "markdown",
   "metadata": {},
   "source": [
    "#### plot running pod per node"
   ]
  },
  {
   "cell_type": "code",
   "execution_count": 31,
   "metadata": {
    "scrolled": false
   },
   "outputs": [
    {
     "data": {
      "text/plain": [
       "<matplotlib.axes._subplots.AxesSubplot at 0x7fc51325f090>"
      ]
     },
     "execution_count": 31,
     "metadata": {},
     "output_type": "execute_result"
    },
    {
     "data": {
      "image/png": "[encoded data removed]",
      "text/plain": [
       "<matplotlib.figure.Figure at 0x7fc516251c50>"
      ]
     },
     "metadata": {},
     "output_type": "display_data"
    }
   ],
   "source": [
    "p = pods['pod']\n",
    "runnings = p[p['phase'] == 'Running']\n",
    "runnings.groupby('host_ip').size().plot(kind='bar')"
   ]
  },
  {
   "cell_type": "markdown",
   "metadata": {},
   "source": [
    "#### plot running containers per node"
   ]
  },
  {
   "cell_type": "code",
   "execution_count": 13,
   "metadata": {},
   "outputs": [
    {
     "data": {
      "text/plain": [
       "<matplotlib.axes._subplots.AxesSubplot at 0x7fc516fff950>"
      ]
     },
     "execution_count": 13,
     "metadata": {},
     "output_type": "execute_result"
    },
    {
     "data": {
      "image/png": "[encoded data removed]",
      "text/plain": [
       "<matplotlib.figure.Figure at 0x7fc5173ffa50>"
      ]
     },
     "metadata": {},
     "output_type": "display_data"
    }
   ],
   "source": [
    "container = pd.merge(pods['pod'], pods['container'], left_on=\"uid\", right_on=\"pod_id\")\n",
    "runnings = container[(container['state'] == 'running') & (container['phase'] == 'Running')]\n",
    "runnings.groupby('host_ip').size().plot(kind='bar')"
   ]
  },
  {
   "cell_type": "markdown",
   "metadata": {},
   "source": [
    "#### read pod logs"
   ]
  },
  {
   "cell_type": "code",
   "execution_count": null,
   "metadata": {
    "collapsed": true
   },
   "outputs": [],
   "source": [
    "from k8sclient.keywords import tail_pod_logs\n",
    "r = tail_pod_logs(\"monitor-essential-service\", \"elasticsearch-data-734v4\", lines=20)\n",
    "# r.strip().split(\"\\n\")\n",
    "print r"
   ]
  },
  {
   "cell_type": "markdown",
   "metadata": {},
   "source": [
    "### Node information"
   ]
  },
  {
   "cell_type": "code",
   "execution_count": 14,
   "metadata": {
    "collapsed": true
   },
   "outputs": [],
   "source": [
    "from k8sclient.dataframes import collect_nodes\n",
    "nodes = collect_nodes()\n",
    "# nodes[[\"name\",\"a-cpu\", \"a-memory\", \"a-pods\", \"c-cpu\", \"c-memory\", \"purpose\", \"role\"]].set_index(\"name\")"
   ]
  },
  {
   "cell_type": "code",
   "execution_count": 15,
   "metadata": {},
   "outputs": [
    {
     "data": {
      "text/html": [
       "<div>\n",
       "<style>\n",
       "    .dataframe thead tr:only-child th {\n",
       "        text-align: right;\n",
       "    }\n",
       "\n",
       "    .dataframe thead th {\n",
       "        text-align: left;\n",
       "    }\n",
       "\n",
       "    .dataframe tbody tr th {\n",
       "        vertical-align: top;\n",
       "    }\n",
       "</style>\n",
       "<table border=\"1\" class=\"dataframe\">\n",
       "  <thead>\n",
       "    <tr style=\"text-align: right;\">\n",
       "      <th></th>\n",
       "    </tr>\n",
       "  </thead>\n",
       "  <tbody>\n",
       "    <tr>\n",
       "      <th>DiskPressure</th>\n",
       "    </tr>\n",
       "    <tr>\n",
       "      <th>MemoryPressure</th>\n",
       "    </tr>\n",
       "    <tr>\n",
       "      <th>OutOfDisk</th>\n",
       "    </tr>\n",
       "    <tr>\n",
       "      <th>Ready</th>\n",
       "    </tr>\n",
       "    <tr>\n",
       "      <th>a-cpu</th>\n",
       "    </tr>\n",
       "    <tr>\n",
       "      <th>a-memory</th>\n",
       "    </tr>\n",
       "    <tr>\n",
       "      <th>a-pods</th>\n",
       "    </tr>\n",
       "    <tr>\n",
       "      <th>addition</th>\n",
       "    </tr>\n",
       "    <tr>\n",
       "      <th>beta.kubernetes.io/arch</th>\n",
       "    </tr>\n",
       "    <tr>\n",
       "      <th>beta.kubernetes.io/os</th>\n",
       "    </tr>\n",
       "    <tr>\n",
       "      <th>c-cpu</th>\n",
       "    </tr>\n",
       "    <tr>\n",
       "      <th>c-memory</th>\n",
       "    </tr>\n",
       "    <tr>\n",
       "      <th>enn-monitor-log-k8s-pod-reader-server-monitor-system-log</th>\n",
       "    </tr>\n",
       "    <tr>\n",
       "      <th>enn-monitor-log-k8s-system-reader-server-monitor-system-log</th>\n",
       "    </tr>\n",
       "    <tr>\n",
       "      <th>enn-monitor-test-elasticsearch-test1</th>\n",
       "    </tr>\n",
       "    <tr>\n",
       "      <th>enn-monitor-test-enn-monitor-test-elasticsearch.yml</th>\n",
       "    </tr>\n",
       "    <tr>\n",
       "      <th>es-client-monitor-essential-service</th>\n",
       "    </tr>\n",
       "    <tr>\n",
       "      <th>es-client-svc-monitor-essential-service</th>\n",
       "    </tr>\n",
       "    <tr>\n",
       "      <th>es-data-monitor-essential-service</th>\n",
       "    </tr>\n",
       "    <tr>\n",
       "      <th>es-search-monitor-system</th>\n",
       "    </tr>\n",
       "    <tr>\n",
       "      <th>grafana-monitor-system-graph</th>\n",
       "    </tr>\n",
       "    <tr>\n",
       "      <th>kafka-monitor-system</th>\n",
       "    </tr>\n",
       "    <tr>\n",
       "      <th>kibana-elasticsearch-test</th>\n",
       "    </tr>\n",
       "    <tr>\n",
       "      <th>kubernetes.io/hostname</th>\n",
       "    </tr>\n",
       "    <tr>\n",
       "      <th>mongo-monitor-essential-service</th>\n",
       "    </tr>\n",
       "    <tr>\n",
       "      <th>monitor-alert-log-k8s-pod-monitor-system-alert</th>\n",
       "    </tr>\n",
       "    <tr>\n",
       "      <th>monitor-alert-log-k8s-system-monitor-system-alert</th>\n",
       "    </tr>\n",
       "    <tr>\n",
       "      <th>monitor-alert-monitor-system-alert</th>\n",
       "    </tr>\n",
       "    <tr>\n",
       "      <th>monitor-app-monitor-system-metrics</th>\n",
       "    </tr>\n",
       "    <tr>\n",
       "      <th>monitor-kubelet-monitor-system-metrics</th>\n",
       "    </tr>\n",
       "    <tr>\n",
       "      <th>monitor-security-token-svr-monitor-essential-service</th>\n",
       "    </tr>\n",
       "    <tr>\n",
       "      <th>monitor-security-token-svr-monitor-system-security</th>\n",
       "    </tr>\n",
       "    <tr>\n",
       "      <th>monitor-security-token-web-monitor-essential-service</th>\n",
       "    </tr>\n",
       "    <tr>\n",
       "      <th>name</th>\n",
       "    </tr>\n",
       "    <tr>\n",
       "      <th>node-type</th>\n",
       "    </tr>\n",
       "    <tr>\n",
       "      <th>nvidiagpu</th>\n",
       "    </tr>\n",
       "    <tr>\n",
       "      <th>opentsdb-monitor-essential-service</th>\n",
       "    </tr>\n",
       "    <tr>\n",
       "      <th>prometheus-admin-center</th>\n",
       "    </tr>\n",
       "    <tr>\n",
       "      <th>prometheus-pushgateway</th>\n",
       "    </tr>\n",
       "    <tr>\n",
       "      <th>prometheus-pushprom</th>\n",
       "    </tr>\n",
       "    <tr>\n",
       "      <th>prometheus-script-exporter</th>\n",
       "    </tr>\n",
       "    <tr>\n",
       "      <th>purpose</th>\n",
       "    </tr>\n",
       "    <tr>\n",
       "      <th>role</th>\n",
       "    </tr>\n",
       "    <tr>\n",
       "      <th>schedulable</th>\n",
       "    </tr>\n",
       "    <tr>\n",
       "      <th>tmp</th>\n",
       "    </tr>\n",
       "    <tr>\n",
       "      <th>uid</th>\n",
       "    </tr>\n",
       "    <tr>\n",
       "      <th>zk-monitor-system</th>\n",
       "    </tr>\n",
       "  </tbody>\n",
       "</table>\n",
       "</div>"
      ],
      "text/plain": [
       "Empty DataFrame\n",
       "Columns: []\n",
       "Index: [DiskPressure, MemoryPressure, OutOfDisk, Ready, a-cpu, a-memory, a-pods, addition, beta.kubernetes.io/arch, beta.kubernetes.io/os, c-cpu, c-memory, enn-monitor-log-k8s-pod-reader-server-monitor-system-log, enn-monitor-log-k8s-system-reader-server-monitor-system-log, enn-monitor-test-elasticsearch-test1, enn-monitor-test-enn-monitor-test-elasticsearch.yml, es-client-monitor-essential-service, es-client-svc-monitor-essential-service, es-data-monitor-essential-service, es-search-monitor-system, grafana-monitor-system-graph, kafka-monitor-system, kibana-elasticsearch-test, kubernetes.io/hostname, mongo-monitor-essential-service, monitor-alert-log-k8s-pod-monitor-system-alert, monitor-alert-log-k8s-system-monitor-system-alert, monitor-alert-monitor-system-alert, monitor-app-monitor-system-metrics, monitor-kubelet-monitor-system-metrics, monitor-security-token-svr-monitor-essential-service, monitor-security-token-svr-monitor-system-security, monitor-security-token-web-monitor-essential-service, name, node-type, nvidiagpu, opentsdb-monitor-essential-service, prometheus-admin-center, prometheus-pushgateway, prometheus-pushprom, prometheus-script-exporter, purpose, role, schedulable, tmp, uid, zk-monitor-system]"
      ]
     },
     "execution_count": 15,
     "metadata": {},
     "output_type": "execute_result"
    }
   ],
   "source": [
    "nodes[nodes.name=='10.19.248.43'].T"
   ]
  },
  {
   "cell_type": "code",
   "execution_count": 16,
   "metadata": {},
   "outputs": [
    {
     "data": {
      "text/html": [
       "<div>\n",
       "<style>\n",
       "    .dataframe thead tr:only-child th {\n",
       "        text-align: right;\n",
       "    }\n",
       "\n",
       "    .dataframe thead th {\n",
       "        text-align: left;\n",
       "    }\n",
       "\n",
       "    .dataframe tbody tr th {\n",
       "        vertical-align: top;\n",
       "    }\n",
       "</style>\n",
       "<table border=\"1\" class=\"dataframe\">\n",
       "  <thead>\n",
       "    <tr style=\"text-align: right;\">\n",
       "      <th></th>\n",
       "      <th>a-cpu</th>\n",
       "      <th>a-memory</th>\n",
       "      <th>a-pods</th>\n",
       "      <th>addition</th>\n",
       "      <th>nvidiagpu</th>\n",
       "    </tr>\n",
       "    <tr>\n",
       "      <th>name</th>\n",
       "      <th></th>\n",
       "      <th></th>\n",
       "      <th></th>\n",
       "      <th></th>\n",
       "      <th></th>\n",
       "    </tr>\n",
       "  </thead>\n",
       "  <tbody>\n",
       "    <tr>\n",
       "      <th>10.19.137.147</th>\n",
       "      <td>7.0</td>\n",
       "      <td>60.596355</td>\n",
       "      <td>600</td>\n",
       "      <td>GPU</td>\n",
       "      <td>2</td>\n",
       "    </tr>\n",
       "    <tr>\n",
       "      <th>10.19.137.148</th>\n",
       "      <td>7.0</td>\n",
       "      <td>60.596340</td>\n",
       "      <td>600</td>\n",
       "      <td>GPU</td>\n",
       "      <td>2</td>\n",
       "    </tr>\n",
       "    <tr>\n",
       "      <th>10.19.137.149</th>\n",
       "      <td>7.0</td>\n",
       "      <td>60.596359</td>\n",
       "      <td>600</td>\n",
       "      <td>GPU</td>\n",
       "      <td>2</td>\n",
       "    </tr>\n",
       "    <tr>\n",
       "      <th>10.19.137.150</th>\n",
       "      <td>7.0</td>\n",
       "      <td>60.596359</td>\n",
       "      <td>600</td>\n",
       "      <td>GPU</td>\n",
       "      <td>2</td>\n",
       "    </tr>\n",
       "    <tr>\n",
       "      <th>10.19.137.151</th>\n",
       "      <td>7.0</td>\n",
       "      <td>60.596268</td>\n",
       "      <td>600</td>\n",
       "      <td>GPU</td>\n",
       "      <td>2</td>\n",
       "    </tr>\n",
       "  </tbody>\n",
       "</table>\n",
       "</div>"
      ],
      "text/plain": [
       "               a-cpu   a-memory  a-pods addition  nvidiagpu\n",
       "name                                                       \n",
       "10.19.137.147    7.0  60.596355     600      GPU          2\n",
       "10.19.137.148    7.0  60.596340     600      GPU          2\n",
       "10.19.137.149    7.0  60.596359     600      GPU          2\n",
       "10.19.137.150    7.0  60.596359     600      GPU          2\n",
       "10.19.137.151    7.0  60.596268     600      GPU          2"
      ]
     },
     "execution_count": 16,
     "metadata": {},
     "output_type": "execute_result"
    }
   ],
   "source": [
    "n = nodes.set_index(\"name\")\n",
    "n[n.nvidiagpu > 0][[\"a-cpu\", \"a-memory\", \"a-pods\", \"addition\", \"nvidiagpu\"]]"
   ]
  },
  {
   "cell_type": "markdown",
   "metadata": {},
   "source": [
    "### Service information"
   ]
  },
  {
   "cell_type": "code",
   "execution_count": 17,
   "metadata": {
    "scrolled": false
   },
   "outputs": [
    {
     "data": {
      "text/plain": [
       "<matplotlib.axes._subplots.AxesSubplot at 0x7fc516c9a510>"
      ]
     },
     "execution_count": 17,
     "metadata": {},
     "output_type": "execute_result"
    },
    {
     "data": {
      "image/png": "[encoded data removed]",
      "text/plain": [
       "<matplotlib.figure.Figure at 0x7fc516c9a9d0>"
      ]
     },
     "metadata": {},
     "output_type": "display_data"
    }
   ],
   "source": [
    "%matplotlib inline\n",
    "from k8sclient.dataframes import collect_services\n",
    "services, ports, eips = collect_services()\n",
    "services.groupby(\"type\").size().plot(kind=\"bar\")"
   ]
  },
  {
   "cell_type": "markdown",
   "metadata": {},
   "source": [
    "#### check conflict external ip ports"
   ]
  },
  {
   "cell_type": "code",
   "execution_count": 18,
   "metadata": {
    "scrolled": false
   },
   "outputs": [
    {
     "data": {
      "text/html": [
       "<div>\n",
       "<style>\n",
       "    .dataframe thead tr:only-child th {\n",
       "        text-align: right;\n",
       "    }\n",
       "\n",
       "    .dataframe thead th {\n",
       "        text-align: left;\n",
       "    }\n",
       "\n",
       "    .dataframe tbody tr th {\n",
       "        vertical-align: top;\n",
       "    }\n",
       "</style>\n",
       "<table border=\"1\" class=\"dataframe\">\n",
       "  <thead>\n",
       "    <tr style=\"text-align: right;\">\n",
       "      <th></th>\n",
       "      <th></th>\n",
       "      <th>namespace</th>\n",
       "      <th>name_x</th>\n",
       "      <th>type</th>\n",
       "      <th>target_port</th>\n",
       "    </tr>\n",
       "    <tr>\n",
       "      <th>external_ip</th>\n",
       "      <th>port</th>\n",
       "      <th></th>\n",
       "      <th></th>\n",
       "      <th></th>\n",
       "      <th></th>\n",
       "    </tr>\n",
       "  </thead>\n",
       "  <tbody>\n",
       "    <tr>\n",
       "      <th rowspan=\"10\" valign=\"top\">10.19.137.140</th>\n",
       "      <th>22181</th>\n",
       "      <td>aaron</td>\n",
       "      <td>pre1-zookeeper1-ex</td>\n",
       "      <td>ClusterIP</td>\n",
       "      <td>2181</td>\n",
       "    </tr>\n",
       "    <tr>\n",
       "      <th>22181</th>\n",
       "      <td>ccc-hadoop0</td>\n",
       "      <td>demo-zookeeper1-ex</td>\n",
       "      <td>ClusterIP</td>\n",
       "      <td>2181</td>\n",
       "    </tr>\n",
       "    <tr>\n",
       "      <th>22181</th>\n",
       "      <td>dataflow-demo-dev</td>\n",
       "      <td>pre1-zookeeper1-ex</td>\n",
       "      <td>ClusterIP</td>\n",
       "      <td>2181</td>\n",
       "    </tr>\n",
       "    <tr>\n",
       "      <th>22181</th>\n",
       "      <td>dataflow</td>\n",
       "      <td>pre1-zookeeper1-ex</td>\n",
       "      <td>ClusterIP</td>\n",
       "      <td>2181</td>\n",
       "    </tr>\n",
       "    <tr>\n",
       "      <th>22181</th>\n",
       "      <td>liye-test-sh</td>\n",
       "      <td>pre1-zookeeper1-ex</td>\n",
       "      <td>ClusterIP</td>\n",
       "      <td>2181</td>\n",
       "    </tr>\n",
       "    <tr>\n",
       "      <th>22181</th>\n",
       "      <td>monitor-essential-service</td>\n",
       "      <td>pre1-zookeeper1-ex</td>\n",
       "      <td>ClusterIP</td>\n",
       "      <td>2181</td>\n",
       "    </tr>\n",
       "    <tr>\n",
       "      <th>8180</th>\n",
       "      <td>dataflow-demo-ye</td>\n",
       "      <td>kafka2hdfs</td>\n",
       "      <td>ClusterIP</td>\n",
       "      <td>8180</td>\n",
       "    </tr>\n",
       "    <tr>\n",
       "      <th>8180</th>\n",
       "      <td>ping</td>\n",
       "      <td>kafka2hdfs</td>\n",
       "      <td>ClusterIP</td>\n",
       "      <td>8180</td>\n",
       "    </tr>\n",
       "    <tr>\n",
       "      <th>8181</th>\n",
       "      <td>dataflow-demo-ye</td>\n",
       "      <td>kafka2hdfs</td>\n",
       "      <td>ClusterIP</td>\n",
       "      <td>8181</td>\n",
       "    </tr>\n",
       "    <tr>\n",
       "      <th>8181</th>\n",
       "      <td>ping</td>\n",
       "      <td>kafka2hdfs</td>\n",
       "      <td>ClusterIP</td>\n",
       "      <td>8181</td>\n",
       "    </tr>\n",
       "    <tr>\n",
       "      <th rowspan=\"6\" valign=\"top\">10.19.137.141</th>\n",
       "      <th>22181</th>\n",
       "      <td>aaron</td>\n",
       "      <td>pre1-zookeeper2-ex</td>\n",
       "      <td>ClusterIP</td>\n",
       "      <td>2181</td>\n",
       "    </tr>\n",
       "    <tr>\n",
       "      <th>22181</th>\n",
       "      <td>ccc-hadoop0</td>\n",
       "      <td>demo-zookeeper2-ex</td>\n",
       "      <td>ClusterIP</td>\n",
       "      <td>2181</td>\n",
       "    </tr>\n",
       "    <tr>\n",
       "      <th>22181</th>\n",
       "      <td>dataflow-demo-dev</td>\n",
       "      <td>pre1-zookeeper2-ex</td>\n",
       "      <td>ClusterIP</td>\n",
       "      <td>2181</td>\n",
       "    </tr>\n",
       "    <tr>\n",
       "      <th>22181</th>\n",
       "      <td>dataflow</td>\n",
       "      <td>pre1-zookeeper2-ex</td>\n",
       "      <td>ClusterIP</td>\n",
       "      <td>2181</td>\n",
       "    </tr>\n",
       "    <tr>\n",
       "      <th>22181</th>\n",
       "      <td>liye-test-sh</td>\n",
       "      <td>pre1-zookeeper2-ex</td>\n",
       "      <td>ClusterIP</td>\n",
       "      <td>2181</td>\n",
       "    </tr>\n",
       "    <tr>\n",
       "      <th>22181</th>\n",
       "      <td>monitor-essential-service</td>\n",
       "      <td>pre1-zookeeper2-ex</td>\n",
       "      <td>ClusterIP</td>\n",
       "      <td>2181</td>\n",
       "    </tr>\n",
       "    <tr>\n",
       "      <th rowspan=\"6\" valign=\"top\">10.19.137.142</th>\n",
       "      <th>22181</th>\n",
       "      <td>aaron</td>\n",
       "      <td>pre1-zookeeper3-ex</td>\n",
       "      <td>ClusterIP</td>\n",
       "      <td>2181</td>\n",
       "    </tr>\n",
       "    <tr>\n",
       "      <th>22181</th>\n",
       "      <td>ccc-hadoop0</td>\n",
       "      <td>demo-zookeeper3-ex</td>\n",
       "      <td>ClusterIP</td>\n",
       "      <td>2181</td>\n",
       "    </tr>\n",
       "    <tr>\n",
       "      <th>22181</th>\n",
       "      <td>dataflow-demo-dev</td>\n",
       "      <td>pre1-zookeeper3-ex</td>\n",
       "      <td>ClusterIP</td>\n",
       "      <td>2181</td>\n",
       "    </tr>\n",
       "    <tr>\n",
       "      <th>22181</th>\n",
       "      <td>dataflow</td>\n",
       "      <td>pre1-zookeeper3-ex</td>\n",
       "      <td>ClusterIP</td>\n",
       "      <td>2181</td>\n",
       "    </tr>\n",
       "    <tr>\n",
       "      <th>22181</th>\n",
       "      <td>liye-test-sh</td>\n",
       "      <td>pre1-zookeeper3-ex</td>\n",
       "      <td>ClusterIP</td>\n",
       "      <td>2181</td>\n",
       "    </tr>\n",
       "    <tr>\n",
       "      <th>22181</th>\n",
       "      <td>monitor-essential-service</td>\n",
       "      <td>pre1-zookeeper3-ex</td>\n",
       "      <td>ClusterIP</td>\n",
       "      <td>2181</td>\n",
       "    </tr>\n",
       "  </tbody>\n",
       "</table>\n",
       "</div>"
      ],
      "text/plain": [
       "                                     namespace              name_x       type  \\\n",
       "external_ip   port                                                              \n",
       "10.19.137.140 22181                      aaron  pre1-zookeeper1-ex  ClusterIP   \n",
       "              22181                ccc-hadoop0  demo-zookeeper1-ex  ClusterIP   \n",
       "              22181          dataflow-demo-dev  pre1-zookeeper1-ex  ClusterIP   \n",
       "              22181                   dataflow  pre1-zookeeper1-ex  ClusterIP   \n",
       "              22181               liye-test-sh  pre1-zookeeper1-ex  ClusterIP   \n",
       "              22181  monitor-essential-service  pre1-zookeeper1-ex  ClusterIP   \n",
       "              8180            dataflow-demo-ye          kafka2hdfs  ClusterIP   \n",
       "              8180                        ping          kafka2hdfs  ClusterIP   \n",
       "              8181            dataflow-demo-ye          kafka2hdfs  ClusterIP   \n",
       "              8181                        ping          kafka2hdfs  ClusterIP   \n",
       "10.19.137.141 22181                      aaron  pre1-zookeeper2-ex  ClusterIP   \n",
       "              22181                ccc-hadoop0  demo-zookeeper2-ex  ClusterIP   \n",
       "              22181          dataflow-demo-dev  pre1-zookeeper2-ex  ClusterIP   \n",
       "              22181                   dataflow  pre1-zookeeper2-ex  ClusterIP   \n",
       "              22181               liye-test-sh  pre1-zookeeper2-ex  ClusterIP   \n",
       "              22181  monitor-essential-service  pre1-zookeeper2-ex  ClusterIP   \n",
       "10.19.137.142 22181                      aaron  pre1-zookeeper3-ex  ClusterIP   \n",
       "              22181                ccc-hadoop0  demo-zookeeper3-ex  ClusterIP   \n",
       "              22181          dataflow-demo-dev  pre1-zookeeper3-ex  ClusterIP   \n",
       "              22181                   dataflow  pre1-zookeeper3-ex  ClusterIP   \n",
       "              22181               liye-test-sh  pre1-zookeeper3-ex  ClusterIP   \n",
       "              22181  monitor-essential-service  pre1-zookeeper3-ex  ClusterIP   \n",
       "\n",
       "                    target_port  \n",
       "external_ip   port               \n",
       "10.19.137.140 22181        2181  \n",
       "              22181        2181  \n",
       "              22181        2181  \n",
       "              22181        2181  \n",
       "              22181        2181  \n",
       "              22181        2181  \n",
       "              8180         8180  \n",
       "              8180         8180  \n",
       "              8181         8181  \n",
       "              8181         8181  \n",
       "10.19.137.141 22181        2181  \n",
       "              22181        2181  \n",
       "              22181        2181  \n",
       "              22181        2181  \n",
       "              22181        2181  \n",
       "              22181        2181  \n",
       "10.19.137.142 22181        2181  \n",
       "              22181        2181  \n",
       "              22181        2181  \n",
       "              22181        2181  \n",
       "              22181        2181  \n",
       "              22181        2181  "
      ]
     },
     "execution_count": 18,
     "metadata": {},
     "output_type": "execute_result"
    }
   ],
   "source": [
    "import pandas as pd\n",
    "external_ports = pd.merge(ports, eips)\n",
    "a = pd.merge(services, external_ports, left_on=\"uid\", right_on=\"service_id\")\n",
    "b = a[['namespace', \"name_x\", \"type\", \"port\", \"target_port\", \"external_ip\"]]\n",
    "c = b[[\"external_ip\", \"port\"]].duplicated(keep=False)\n",
    "b[c].set_index([\"external_ip\",\"port\"]).sort_index()"
   ]
  },
  {
   "cell_type": "markdown",
   "metadata": {},
   "source": [
    "#### check conflict Nodeport ports"
   ]
  },
  {
   "cell_type": "code",
   "execution_count": 19,
   "metadata": {},
   "outputs": [
    {
     "data": {
      "text/html": [
       "<div>\n",
       "<style>\n",
       "    .dataframe thead tr:only-child th {\n",
       "        text-align: right;\n",
       "    }\n",
       "\n",
       "    .dataframe thead th {\n",
       "        text-align: left;\n",
       "    }\n",
       "\n",
       "    .dataframe tbody tr th {\n",
       "        vertical-align: top;\n",
       "    }\n",
       "</style>\n",
       "<table border=\"1\" class=\"dataframe\">\n",
       "  <thead>\n",
       "    <tr style=\"text-align: right;\">\n",
       "      <th></th>\n",
       "      <th>namespace</th>\n",
       "      <th>name_x</th>\n",
       "      <th>type</th>\n",
       "      <th>target_port</th>\n",
       "    </tr>\n",
       "    <tr>\n",
       "      <th>node_port</th>\n",
       "      <th></th>\n",
       "      <th></th>\n",
       "      <th></th>\n",
       "      <th></th>\n",
       "    </tr>\n",
       "  </thead>\n",
       "  <tbody>\n",
       "  </tbody>\n",
       "</table>\n",
       "</div>"
      ],
      "text/plain": [
       "Empty DataFrame\n",
       "Columns: [namespace, name_x, type, target_port]\n",
       "Index: []"
      ]
     },
     "execution_count": 19,
     "metadata": {},
     "output_type": "execute_result"
    }
   ],
   "source": [
    "import pandas as pd\n",
    "a = pd.merge(services, ports, left_on=\"uid\", right_on=\"service_id\")\n",
    "b = a[['namespace', \"name_x\", \"type\", \"node_port\", \"target_port\"]]\n",
    "c = b[\"node_port\"].duplicated(keep=False) & (b.node_port != \"None\")\n",
    "b[c].set_index([\"node_port\"]).sort_index()"
   ]
  },
  {
   "cell_type": "markdown",
   "metadata": {},
   "source": [
    "#### check conflict between nodeport and external ip ports"
   ]
  },
  {
   "cell_type": "code",
   "execution_count": 20,
   "metadata": {},
   "outputs": [
    {
     "data": {
      "text/html": [
       "<div>\n",
       "<style>\n",
       "    .dataframe thead tr:only-child th {\n",
       "        text-align: right;\n",
       "    }\n",
       "\n",
       "    .dataframe thead th {\n",
       "        text-align: left;\n",
       "    }\n",
       "\n",
       "    .dataframe tbody tr th {\n",
       "        vertical-align: top;\n",
       "    }\n",
       "</style>\n",
       "<table border=\"1\" class=\"dataframe\">\n",
       "  <thead>\n",
       "    <tr style=\"text-align: right;\">\n",
       "      <th></th>\n",
       "      <th>namespace</th>\n",
       "      <th>name_x</th>\n",
       "      <th>type</th>\n",
       "      <th>node_port_x</th>\n",
       "      <th>target_port_x</th>\n",
       "      <th>name</th>\n",
       "      <th>node_port_y</th>\n",
       "      <th>port</th>\n",
       "      <th>protocol</th>\n",
       "      <th>service_id</th>\n",
       "      <th>target_port_y</th>\n",
       "      <th>external_ip</th>\n",
       "    </tr>\n",
       "  </thead>\n",
       "  <tbody>\n",
       "  </tbody>\n",
       "</table>\n",
       "</div>"
      ],
      "text/plain": [
       "Empty DataFrame\n",
       "Columns: [namespace, name_x, type, node_port_x, target_port_x, name, node_port_y, port, protocol, service_id, target_port_y, external_ip]\n",
       "Index: []"
      ]
     },
     "execution_count": 20,
     "metadata": {},
     "output_type": "execute_result"
    }
   ],
   "source": [
    "import pandas as pd\n",
    "external_ports = pd.merge(ports, eips)\n",
    "a = pd.merge(services, ports, left_on=\"uid\", right_on=\"service_id\")\n",
    "node_ports = a[a.type==\"NodePort\"][['namespace', \"name_x\", \"type\", \"node_port\", \"target_port\"]]\n",
    "pd.merge(node_ports, external_ports, left_on=\"node_port\", right_on=\"port\", how=\"outer\").dropna()\n",
    "# external_ports"
   ]
  },
  {
   "cell_type": "markdown",
   "metadata": {},
   "source": [
    "#### plot service type  per namespace"
   ]
  },
  {
   "cell_type": "code",
   "execution_count": 21,
   "metadata": {
    "scrolled": false
   },
   "outputs": [
    {
     "data": {
      "text/plain": [
       "<matplotlib.axes._subplots.AxesSubplot at 0x7fc516bda690>"
      ]
     },
     "execution_count": 21,
     "metadata": {},
     "output_type": "execute_result"
    },
    {
     "data": {
      "image/png": "[encoded data removed]",
      "text/plain": [
       "<matplotlib.figure.Figure at 0x7fc516c35850>"
      ]
     },
     "metadata": {},
     "output_type": "display_data"
    }
   ],
   "source": [
    "services.groupby([\"namespace\", \"type\"]).size().unstack().fillna(0).plot(kind=\"bar\", figsize=(12,8))"
   ]
  },
  {
   "cell_type": "markdown",
   "metadata": {},
   "source": [
    "## Deployment"
   ]
  },
  {
   "cell_type": "markdown",
   "metadata": {},
   "source": [
    "### Create pod"
   ]
  },
  {
   "cell_type": "code",
   "execution_count": 22,
   "metadata": {
    "collapsed": true
   },
   "outputs": [],
   "source": [
    "from k8sclient.Components import PodBuilder\n",
    "from k8sclient.keywords import (\n",
    "    wait_for_pod_state,\n",
    "    RUNNING,\n",
    "    delete_pod,\n",
    "    NOT_FOUND\n",
    ")"
   ]
  },
  {
   "cell_type": "code",
   "execution_count": null,
   "metadata": {
    "collapsed": true
   },
   "outputs": [],
   "source": [
    "namespace = \"monkey\"\n",
    "image = \"127.0.0.1:30100/library/python-tools:v20170619\"\n",
    "args = \"loggen.py\"\n",
    "name = \"logstress\"\n",
    "\n",
    "\n",
    "def deploy():\n",
    "    PodBuilder(\n",
    "        name,\n",
    "        namespace,\n",
    "    ).add_container(\n",
    "        name,\n",
    "        image=image,\n",
    "        args=args,\n",
    "    ).deploy()\n",
    "    wait_for_pod_state(namespace, name, 60, RUNNING)\n",
    "\n",
    "\n",
    "def un_deploy():\n",
    "    delete_pod(namespace, name)\n",
    "    wait_for_pod_state(namespace, name, 60, NOT_FOUND)"
   ]
  },
  {
   "cell_type": "markdown",
   "metadata": {},
   "source": [
    "### Use volumes"
   ]
  },
  {
   "cell_type": "code",
   "execution_count": null,
   "metadata": {
    "collapsed": true
   },
   "outputs": [],
   "source": [
    "from k8sclient.Components import (\n",
    "    HostPathVolume, RBDVolume, CephFSVolume, EmptyDirVolume\n",
    ")\n",
    "volume_hostpath = HostPathVolume(\n",
    "        \"hostpath-1\",\n",
    "        \"/apt/containers\",\n",
    "        \"/data/docker/containers\"\n",
    "    )\n",
    "volume_emptydir = EmptyDirVolume(\n",
    "    \"emptydir-1\",\n",
    "    \"/data/something\"\n",
    ")\n",
    "\n",
    "ceph_monitors = \"10.19.137.144:6789,10.19.137.145:6789,10.19.137.146:6789\"\n",
    "ceph_pool = \"monkey\"\n",
    "ceph_fstype = \"xfs\"\n",
    "ceph_secret = \"ceph-secret\"\n",
    "volume_rbd = RBDVolume(\n",
    "        \"rbd\",\n",
    "        \"/apt/data\",\n",
    "        fs_type=ceph_fstype,\n",
    "        image=\"default\",\n",
    "        pool=ceph_pool,\n",
    "        monitors=ceph_monitors,\n",
    "        secret_name=ceph_secret,\n",
    "        sub_path=\"writetest\",\n",
    "        read_only=True\n",
    "    )\n",
    "volume_cephfs = CephFSVolume(\n",
    "            \"cephfs\",\n",
    "            \"/tmp\",\n",
    "            monitors=ceph_monitors,\n",
    "            secret_name=ceph_secret,\n",
    "            fs_path=\"scrapy\",\n",
    "            sub_path=\"scrapy_name\"\n",
    "        )\n",
    "\n",
    "def deploy():\n",
    "    PodBuilder(\n",
    "        name,\n",
    "        namespace,\n",
    "    ).add_container(\n",
    "        name,\n",
    "        image=image,\n",
    "        args=args,\n",
    "        volumes=[volume_hostpath, volume_rbd, volume_cephfs, volume_emptydir]\n",
    "    ).deploy()"
   ]
  },
  {
   "cell_type": "markdown",
   "metadata": {},
   "source": [
    "### Use service"
   ]
  },
  {
   "cell_type": "code",
   "execution_count": null,
   "metadata": {
    "collapsed": true
   },
   "outputs": [],
   "source": [
    "from k8sclient.Components import ServicePort, ServiceBuilder\n",
    "\n",
    "udp_port = ServicePort(\"dataport\", 8125, 8125, protocol=\"UDP\")\n",
    "http_port = ServicePort(\"httpport\", 80, 80)\n",
    "udp_service = ServiceBuilder(\"graphite\", namespace).add_port(udp_port)\n",
    "http_service = ServiceBuilder(\"graphite-ui\", namespace, service_type=\"NodePort\").add_port(http_port)\n",
    "\n",
    "def deploy():\n",
    "    PodBuilder(\n",
    "        name,\n",
    "        namespace,\n",
    "    ).add_container(\n",
    "        name=name,\n",
    "        image=image,\n",
    "        ports=[udp_port, http_port]\n",
    "    ).attache_service(\n",
    "        udp_service\n",
    "    ).attach_service(\n",
    "        http_service\n",
    "    ).deploy()"
   ]
  },
  {
   "cell_type": "markdown",
   "metadata": {},
   "source": [
    "### Env variables"
   ]
  },
  {
   "cell_type": "code",
   "execution_count": null,
   "metadata": {
    "collapsed": true
   },
   "outputs": [],
   "source": [
    "def deploy():\n",
    "    PodBuilder(\n",
    "        name,\n",
    "        namespace,\n",
    "    ).add_container(\n",
    "        name,\n",
    "        image=image,\n",
    "        args=args,\n",
    "        BATCH_SIZE=10000,\n",
    "        BATCH_COUNT=1000\n",
    "    ).deploy()"
   ]
  },
  {
   "cell_type": "markdown",
   "metadata": {},
   "source": [
    "### Node select"
   ]
  },
  {
   "cell_type": "code",
   "execution_count": null,
   "metadata": {
    "collapsed": true
   },
   "outputs": [],
   "source": [
    "def deploy():\n",
    "    PodBuilder(\n",
    "        name,\n",
    "        namespace,\n",
    "    ).set_node(\n",
    "        node\n",
    "    ).add_container(\n",
    "        name,\n",
    "        image=image,\n",
    "        args=args,\n",
    "        BATCH_SIZE=10000,\n",
    "        BATCH_COUNT=1000\n",
    "    ).deploy()"
   ]
  },
  {
   "cell_type": "markdown",
   "metadata": {},
   "source": [
    "### Replicaset example"
   ]
  },
  {
   "cell_type": "code",
   "execution_count": 26,
   "metadata": {
    "collapsed": true
   },
   "outputs": [],
   "source": [
    "from k8sclient.Components import ServicePort, ServiceBuilder, ReplicaSetBuilder\n",
    "# from k8sclient.keywords import wait_for_pod_state, RUNNING\n",
    "\n",
    "namespace = \"k8sft\"\n",
    "name = \"graphite\"\n",
    "image = \"127.0.0.1:30100/yangtze/graphite-statsd\"\n",
    "# ports\n",
    "udp_port = ServicePort(\"dataport\", 8125, 8125, protocol=\"UDP\")\n",
    "http_port = ServicePort(\"httpport\", 80, 80)\n",
    "# service\n",
    "udp_service = ServiceBuilder(\"graphite\", namespace).add_port(udp_port)\n",
    "http_service = ServiceBuilder(\"graphite-ui\", namespace, service_type=\"NodePort\").add_port(http_port)\n",
    "# replica set\n",
    "rs = ReplicaSetBuilder(\n",
    "    name, namespace\n",
    ").add_container(\n",
    "    name=name + \"-container\",\n",
    "    image=image,\n",
    "    ports=[udp_port, http_port]\n",
    ").attache_service(\n",
    "    http_service\n",
    ").attache_service(\n",
    "    udp_service\n",
    ").set_hostname(name)\n",
    "\n",
    "\n",
    "def deploy():\n",
    "    rs.deploy()\n",
    "    udp_service.deploy()\n",
    "    http_service.deploy()\n",
    "    \n",
    "\n",
    "\n",
    "def un_deploy():\n",
    "    udp_service.un_deploy()\n",
    "    http_service.un_deploy()\n",
    "    rs.un_deploy()\n",
    "\n",
    "un_deploy()"
   ]
  },
  {
   "cell_type": "code",
   "execution_count": 24,
   "metadata": {},
   "outputs": [
    {
     "data": {
      "text/html": [
       "<div>\n",
       "<style>\n",
       "    .dataframe thead tr:only-child th {\n",
       "        text-align: right;\n",
       "    }\n",
       "\n",
       "    .dataframe thead th {\n",
       "        text-align: left;\n",
       "    }\n",
       "\n",
       "    .dataframe tbody tr th {\n",
       "        vertical-align: top;\n",
       "    }\n",
       "</style>\n",
       "<table border=\"1\" class=\"dataframe\">\n",
       "  <thead>\n",
       "    <tr style=\"text-align: right;\">\n",
       "      <th></th>\n",
       "      <th>name</th>\n",
       "      <th>node_port</th>\n",
       "      <th>port</th>\n",
       "      <th>protocol</th>\n",
       "      <th>service_id</th>\n",
       "      <th>target_port</th>\n",
       "    </tr>\n",
       "  </thead>\n",
       "  <tbody>\n",
       "    <tr>\n",
       "      <th>0</th>\n",
       "      <td>dataport</td>\n",
       "      <td>None</td>\n",
       "      <td>8125</td>\n",
       "      <td>UDP</td>\n",
       "      <td>a4a5b305-8e19-11e7-93f9-1866da1a2629</td>\n",
       "      <td>8125</td>\n",
       "    </tr>\n",
       "    <tr>\n",
       "      <th>1</th>\n",
       "      <td>httpport</td>\n",
       "      <td>30804</td>\n",
       "      <td>80</td>\n",
       "      <td>TCP</td>\n",
       "      <td>a4a7832d-8e19-11e7-93f9-1866da1a2629</td>\n",
       "      <td>80</td>\n",
       "    </tr>\n",
       "  </tbody>\n",
       "</table>\n",
       "</div>"
      ],
      "text/plain": [
       "       name node_port  port protocol                            service_id  \\\n",
       "0  dataport      None  8125      UDP  a4a5b305-8e19-11e7-93f9-1866da1a2629   \n",
       "1  httpport     30804    80      TCP  a4a7832d-8e19-11e7-93f9-1866da1a2629   \n",
       "\n",
       "  target_port  \n",
       "0        8125  \n",
       "1          80  "
      ]
     },
     "execution_count": 24,
     "metadata": {},
     "output_type": "execute_result"
    }
   ],
   "source": [
    "from k8sclient.dataframes import collect_namespaced_services\n",
    "s, p, e = collect_namespaced_services(\"k8sft\")\n",
    "p"
   ]
  },
  {
   "cell_type": "markdown",
   "metadata": {},
   "source": [
    "### switch cluster"
   ]
  },
  {
   "cell_type": "code",
   "execution_count": 54,
   "metadata": {
    "collapsed": true
   },
   "outputs": [],
   "source": [
    "from k8sclient.keywords import switch_cluster, register_cluster\n",
    "register_cluster(\"yancheng\", \"~/.kube/config-yancheng\")\n",
    "register_cluster(\"shanghai\", \"~/.kube/config-shanghai\")\n",
    "#switch_cluster(\"yancheng\")\n",
    "switch_cluster(\"shanghai\")"
   ]
  }
 ],
 "metadata": {
  "kernelspec": {
   "display_name": "Python 2",
   "language": "python",
   "name": "python2"
  },
  "language_info": {
   "codemirror_mode": {
    "name": "ipython",
    "version": 2
   },
   "file_extension": ".py",
   "mimetype": "text/x-python",
   "name": "python",
   "nbconvert_exporter": "python",
   "pygments_lexer": "ipython2",
   "version": "2.7.12"
  }
 },
 "nbformat": 4,
 "nbformat_minor": 2
}
