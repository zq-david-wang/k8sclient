{
 "cells": [
  {
   "cell_type": "markdown",
   "metadata": {},
   "source": [
    "## Check cluster network connectivity\n",
    "\n",
    "* pod2pod connection on same node\n",
    "* pod2pod connection on different node\n",
    "* pod2service connection on same node\n",
    "* pod2service connection on different node\n",
    "* pod2node connection\n",
    "* pod2service connection on same pod\n",
    "\n",
    "### deployments\n",
    "* 2 pod/service pairs on each node\n",
    "* global serivce select all pods"
   ]
  },
  {
   "cell_type": "markdown",
   "metadata": {},
   "source": [
    "### Setup (Only run on ready nodes)"
   ]
  },
  {
   "cell_type": "code",
   "execution_count": null,
   "metadata": {
    "collapsed": true
   },
   "outputs": [],
   "source": [
    "from k8sclient.keywords import list_ready_nodes\n",
    "from k8sclient.Components import ServicePort\n",
    "import datetime\n",
    "\n",
    "nodes = list_ready_nodes()\n",
    "uid = datetime.datetime.now().strftime(\"-%Y-%m-%d-%H-%M-%S\")\n",
    "global_service_name = \"health-check\" + uid\n",
    "namespace = \"health-check\"\n",
    "image = \"127.0.0.1:30100/library/memcached:check\"\n",
    "args = \"memcached -m 1028 -u root -v\"\n",
    "client_port = ServicePort(\"clientport\", 11211, 11211)"
   ]
  },
  {
   "cell_type": "markdown",
   "metadata": {},
   "source": [
    "### Create a global service"
   ]
  },
  {
   "cell_type": "code",
   "execution_count": null,
   "metadata": {
    "collapsed": true
   },
   "outputs": [],
   "source": [
    "from k8sclient.K8SClient import ServiceBuilder\n",
    "global_service = ServiceBuilder(global_service_name, namespace).add_port(client_port)"
   ]
  },
  {
   "cell_type": "markdown",
   "metadata": {},
   "source": [
    "### Create 2 pods and services on each nodes"
   ]
  },
  {
   "cell_type": "code",
   "execution_count": null,
   "metadata": {
    "collapsed": true
   },
   "outputs": [],
   "source": [
    "from k8sclient.Components import PodBuilder\n",
    "\n",
    "def deploy(node):\n",
    "    node_mark = \"-\".join(node.split(\".\"))\n",
    "    for i in range(2):\n",
    "        pod_name = (\"pod-%s-%d\" % (node_mark, i)) + uid\n",
    "        service_name = (\"service-%s-%d\" % (node_mark, i)) + uid\n",
    "        service = ServiceBuilder(service_name, namespace).add_port(client_port)\n",
    "        pod = PodBuilder(\n",
    "            pod_name,\n",
    "            namespace,\n",
    "        ).set_node(\n",
    "            node\n",
    "        ).add_container(\n",
    "            pod_name,\n",
    "            image=image,\n",
    "            args=args,\n",
    "            ports=[client_port],\n",
    "            requests={'cpu': '0', 'memory': '0'}\n",
    "        ).attache_service(\n",
    "            service\n",
    "        ).attache_service(\n",
    "            global_service\n",
    "        )\n",
    "        pod.deploy()\n",
    "        service.deploy()\n"
   ]
  },
  {
   "cell_type": "markdown",
   "metadata": {},
   "source": [
    "### Deploy the pod/service pairs on each ready node"
   ]
  },
  {
   "cell_type": "code",
   "execution_count": null,
   "metadata": {
    "collapsed": true
   },
   "outputs": [],
   "source": [
    "for node in nodes:\n",
    "    deploy(node)"
   ]
  },
  {
   "cell_type": "markdown",
   "metadata": {},
   "source": [
    "### Deploy the global service"
   ]
  },
  {
   "cell_type": "code",
   "execution_count": null,
   "metadata": {
    "collapsed": true
   },
   "outputs": [],
   "source": [
    "global_service.deploy()"
   ]
  },
  {
   "cell_type": "markdown",
   "metadata": {},
   "source": [
    "### Connection test on same node"
   ]
  },
  {
   "cell_type": "code",
   "execution_count": null,
   "metadata": {
    "collapsed": true
   },
   "outputs": [],
   "source": [
    "from k8sclient.keywords import get_pod_ip, pod_exec\n",
    "import random\n",
    "\n",
    "\n",
    "def check_service(namespace, pod, service):\n",
    "    # give it a retry\n",
    "    return pod_exec(namespace, pod, [\"/opt/check.sh\", service]) or\\\n",
    "           pod_exec(namespace, pod, [\"/opt/check.sh\", service])\n",
    "\n",
    "def check_ping(namespace, pod, ip):\n",
    "    return pod_exec(namespace, pod, [\"bash\", \"-c\", \"ping %s -c 2 -w 5\" % ip]) or\\\n",
    "           pod_exec(namespace, pod, [\"bash\", \"-c\", \"ping %s -c 2 -w 5\" % ip])\n",
    "\n",
    "def check_pod(namespace, pod, targets):\n",
    "    for target in targets:\n",
    "        if not check_service(namespace, pod, target):\n",
    "            return \"Fail to connect %s on %s.\" % (target, pod)\n",
    "        \n",
    "def check_local(node):\n",
    "    id_1 = random.randint(0,1)\n",
    "    id_2 = (id_1 + 1) % 2\n",
    "    error = \"\"\n",
    "    node_mark = \"-\".join(node.split(\".\"))\n",
    "    pod_1 = (\"pod-%s-%d\" % (node_mark, id_1)) + uid\n",
    "    pod_2 = (\"pod-%s-%d\" % (node_mark, id_2)) + uid\n",
    "    pod_2_ip = get_pod_ip(namespace, pod_2)\n",
    "    pod_2_service = (\"service-%s-%d\" % (node_mark, id_2)) + uid\n",
    "    return check_pod(namespace, pod_1, [pod_2_ip, pod_2_service, global_service_name])"
   ]
  },
  {
   "cell_type": "code",
   "execution_count": null,
   "metadata": {
    "collapsed": true,
    "scrolled": true
   },
   "outputs": [],
   "source": [
    "for node in nodes:\n",
    "    print \"checking\", node\n",
    "    print check_local(node)"
   ]
  },
  {
   "cell_type": "markdown",
   "metadata": {},
   "source": [
    "### Connection test across node"
   ]
  },
  {
   "cell_type": "code",
   "execution_count": null,
   "metadata": {
    "collapsed": true
   },
   "outputs": [],
   "source": [
    "pod_ips = {}\n",
    "node_marks = {n: \"-\".join(n.split(\".\")) for n in nodes}\n",
    "def check_host(namespace, pod, hosts):\n",
    "    for host in hosts:\n",
    "        if not check_ping(namespace, pod, host):\n",
    "            return \"Fail to ping %s on %s.\" % (host, pod)\n",
    "        \n",
    "for node_1 in nodes:\n",
    "    print \"checking on\", node_1\n",
    "    id_1 = random.randint(0,1)\n",
    "    node_1_mark = node_marks[node_1]\n",
    "    pod_1 = (\"pod-%s-%d\" % (node_1_mark, id_1)) + uid\n",
    "    for node_2 in nodes:\n",
    "        if node_1 == node_2:\n",
    "            continue\n",
    "        id_2 = random.randint(0,1)\n",
    "        node_2_mark = node_marks[node_2]\n",
    "        pod_2 = (\"pod-%s-%d\" % (node_2_mark, id_2)) + uid\n",
    "        pod_2_service = (\"service-%s-%d\" % (node_2_mark, id_2)) + uid\n",
    "        pod_2_ip = pod_ips.get(pod_2, get_pod_ip(namespace, pod_2))\n",
    "        pod_ips[pod_2] = pod_2_ip\n",
    "        r = check_pod(namespace, pod_1, [pod_2_ip, pod_2_service])\n",
    "        if r:\n",
    "            print r\n",
    "        r = check_host(namespace, pod_1, [node_1, node_2])\n",
    "        if r:\n",
    "            print r\n",
    "        "
   ]
  }
 ],
 "metadata": {
  "kernelspec": {
   "display_name": "Python 2",
   "language": "python",
   "name": "python2"
  },
  "language_info": {
   "codemirror_mode": {
    "name": "ipython",
    "version": 2
   },
   "file_extension": ".py",
   "mimetype": "text/x-python",
   "name": "python",
   "nbconvert_exporter": "python",
   "pygments_lexer": "ipython2",
   "version": "2.7.12"
  }
 },
 "nbformat": 4,
 "nbformat_minor": 2
}
